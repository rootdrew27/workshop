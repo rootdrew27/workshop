{
 "cells": [
  {
   "cell_type": "markdown",
   "metadata": {},
   "source": [
    "# Pandas and NumPy Introduction"
   ]
  },
  {
   "cell_type": "code",
   "execution_count": null,
   "metadata": {},
   "outputs": [],
   "source": [
    "!python -V"
   ]
  },
  {
   "cell_type": "code",
   "execution_count": null,
   "metadata": {},
   "outputs": [],
   "source": [
    "%pip install numpy pandas matplotlib"
   ]
  },
  {
   "cell_type": "code",
   "execution_count": 2,
   "metadata": {},
   "outputs": [],
   "source": [
    "# lets \n",
    "\n",
    "import numpy as np"
   ]
  },
  {
   "cell_type": "markdown",
   "metadata": {},
   "source": [
    "## Data Analysis\n",
    "\n",
    "Python is one of the most popular languages for data analysis tasks and ML/DL.\n",
    "\n",
    "To train ML models, the data needs to be properly preprocessed. \n",
    "\n",
    "Pandas an NumPy and extremely popular libraries for this purpose \n",
    "that provide data structures and tools allowing for the analysis of data.\n",
    "\n",
    "<br>\n",
    "\n",
    "Data Analysis is needed for a variety of industries and purposes including…\n",
    "* Statistics, Stock Prediction, Neuroscience, Advertising, Natural Language Processing, Netflix recommendations, and many more.\n",
    "\n",
    "<br>\n",
    "\n",
    "We are currently in the era of Big data. \n",
    "\n",
    "Data is a global asset that can be used in endless ways. \n",
    "\n",
    "Accessible tools like Pandas and NumPy are invaluable to the future of innovation.\n"
   ]
  },
  {
   "cell_type": "markdown",
   "metadata": {},
   "source": [
    "## Numpy"
   ]
  },
  {
   "cell_type": "markdown",
   "metadata": {},
   "source": [
    "\n",
    "NumPy is a library that optimizes and improves multi-dimensional list\n",
    "operations in Python.\n",
    "* NumPy is used over regular lists because of its increased speed and efficient\n",
    "memory use.\n",
    "* NumPy also support element-wise operations, something that regular lists do\n",
    "not possess\n",
    "\n",
    "NumPy is primarily used for scientific analysis of numeric data. This is great for the calculation stages of data science.\n"
   ]
  },
  {
   "cell_type": "code",
   "execution_count": null,
   "metadata": {},
   "outputs": [],
   "source": [
    "# The Numpy array is fixed size, unlike python lists\n",
    "\n",
    "ListA = [0, 2, 3, 6, 1, 8, 7]\n",
    "arr = np.array(ListA)\n",
    "arr"
   ]
  },
  {
   "cell_type": "code",
   "execution_count": null,
   "metadata": {},
   "outputs": [],
   "source": [
    "print(\"Dimension\", arr.ndim)\n",
    "print(\"Shape\", arr.shape)\n",
    "print(\"Element Type\", arr.dtype)"
   ]
  },
  {
   "cell_type": "code",
   "execution_count": null,
   "metadata": {},
   "outputs": [],
   "source": [
    "# create a 2d numpy array from multiple lists\n",
    "\n",
    "ListA = [0, 1, 2, 3]\n",
    "ListB = [4, 5, 6, 7]\n",
    "ListC = [8, 9, 10, 11]\n",
    "\n",
    "array_2d = np.array([ListA, ListB, ListC])\n",
    "array_2d"
   ]
  },
  {
   "cell_type": "code",
   "execution_count": null,
   "metadata": {},
   "outputs": [],
   "source": [
    "print(\"Dimension\", array_2d.ndim)\n",
    "print(\"Shape\", array_2d.shape)\n",
    "print(\"Element Type\", array_2d.dtype)"
   ]
  },
  {
   "cell_type": "markdown",
   "metadata": {},
   "source": [
    "### NumPy basic indexing and selecting\n",
    "---"
   ]
  },
  {
   "cell_type": "code",
   "execution_count": null,
   "metadata": {},
   "outputs": [],
   "source": [
    "# NumPy indexing goes (col, row) like python, unlike pandas\n",
    "\n",
    "ListA = [0, 2, 3, 6, 1, 8, 7]\n",
    "arr = np.array(ListA)\n",
    "\n",
    "# grab elements before index 2\n",
    "ListA[:2]"
   ]
  },
  {
   "cell_type": "code",
   "execution_count": null,
   "metadata": {},
   "outputs": [],
   "source": [
    "# grab elements between index 4 and 8\n",
    "ListA[4:8]"
   ]
  },
  {
   "cell_type": "code",
   "execution_count": null,
   "metadata": {},
   "outputs": [],
   "source": [
    "# Since NumPy arrays are numerical, there is no option for label selecting\n",
    "# You do not need iloc for row/col selection\n",
    "\n",
    "ListA = [0, 1, 2, 3]\n",
    "ListB = [4, 5, 6, 7]\n",
    "ListC = [8, 9, 10, 11]\n",
    "\n",
    "array_2d = np.array([ListA, ListB, ListC])\n",
    "\n",
    "# Grab all rows from the first two columns\n",
    "array_2d[:, [0, 2]]"
   ]
  },
  {
   "cell_type": "code",
   "execution_count": null,
   "metadata": {},
   "outputs": [],
   "source": [
    "# Grab all rows from columns index 0, 2, and 3\n",
    "array_2d[:, 0:2:3]"
   ]
  },
  {
   "cell_type": "code",
   "execution_count": null,
   "metadata": {},
   "outputs": [],
   "source": [
    "# You can assign a specific value to a specific array location\n",
    "\n",
    "# assign row 0, column 2 to value 5\n",
    "array_2d[0, 2] = 5\n",
    "array_2d"
   ]
  },
  {
   "cell_type": "code",
   "execution_count": null,
   "metadata": {},
   "outputs": [],
   "source": [
    "# assign all of row 0 to 5\n",
    "array_2d[0, :] = 5\n",
    "array_2d"
   ]
  },
  {
   "cell_type": "markdown",
   "metadata": {},
   "source": [
    "### NumPy functions\n",
    "---"
   ]
  },
  {
   "cell_type": "code",
   "execution_count": null,
   "metadata": {},
   "outputs": [],
   "source": [
    "# you can create an array full of zeros with np.zeros\n",
    "\n",
    "arr = np.zeros((2, 5))\n",
    "print(arr)"
   ]
  },
  {
   "cell_type": "code",
   "execution_count": null,
   "metadata": {},
   "outputs": [],
   "source": [
    "# You can create an array full of ones with np.ones\n",
    "\n",
    "arr = np.ones((2, 5))\n",
    "print(arr)"
   ]
  },
  {
   "cell_type": "code",
   "execution_count": null,
   "metadata": {},
   "outputs": [],
   "source": [
    "# You can fill a numpy array with a specific value using np.full\n",
    "\n",
    "arr = np.full((2, 5), 100)\n",
    "print(arr)"
   ]
  },
  {
   "cell_type": "code",
   "execution_count": null,
   "metadata": {},
   "outputs": [],
   "source": [
    "# You can fill a numpy array with random integers using np.random.randint\n",
    "\n",
    "# Create an array of size (2, 5) with integers from 0 to 10\n",
    "arr = np.random.randint(10, size=(2, 5))\n",
    "print(arr)"
   ]
  },
  {
   "cell_type": "code",
   "execution_count": null,
   "metadata": {},
   "outputs": [],
   "source": [
    "# Create an array of size (2, 5) with random numbers between 0 and 1\n",
    "arr = np.random.rand(2, 5)\n",
    "print(arr)"
   ]
  },
  {
   "cell_type": "code",
   "execution_count": null,
   "metadata": {},
   "outputs": [],
   "source": [
    "# use np.copy() to copy one numpy array onto another\n",
    "\n",
    "arr2 = np.copy(arr)\n",
    "arr2"
   ]
  },
  {
   "cell_type": "markdown",
   "metadata": {},
   "source": [
    "### Mini Challenge! :)\n",
    "\n",
    "Using what you've learned, create a NumpPy array of the grid shown\n",
    "\n",
    "<img src=\"extra/imgs/grid.png\" width=400px height=400px />\n",
    "\n",
    "\n",
    "---"
   ]
  },
  {
   "cell_type": "markdown",
   "metadata": {},
   "source": [
    "### Mini-Challenge 2\n",
    "1. Create a numpy array with the shape (3, 3, 3) with random integers. Print it out.s\n",
    "2. Create another one. Add them and print the results.\n",
    "3. Now try multiplying them.\n",
    "4. Get a slice of the resulting array such the shape of the slice is (3,3). How do you think the multiplication worked?"
   ]
  },
  {
   "cell_type": "code",
   "execution_count": 4,
   "metadata": {},
   "outputs": [
    {
     "name": "stdout",
     "output_type": "stream",
     "text": [
      "[[[0 1 0]\n",
      "  [1 0 0]\n",
      "  [0 0 0]]\n",
      "\n",
      " [[0 1 0]\n",
      "  [0 1 0]\n",
      "  [1 1 1]]\n",
      "\n",
      " [[1 0 0]\n",
      "  [0 0 1]\n",
      "  [1 0 0]]]\n",
      "\n",
      "[[[1 1 1]\n",
      "  [1 0 1]\n",
      "  [0 1 0]]\n",
      "\n",
      " [[1 0 0]\n",
      "  [0 1 0]\n",
      "  [0 1 1]]\n",
      "\n",
      " [[0 0 1]\n",
      "  [0 0 0]\n",
      "  [0 0 1]]]\n"
     ]
    }
   ],
   "source": [
    "arr = np.random.randint(2, size=(3,3,3))\n",
    "arr2 = np.random.randint(2, size=(3,3,3))\n",
    "\n",
    "print(arr)\n",
    "print()\n",
    "print(arr2)\n"
   ]
  },
  {
   "cell_type": "code",
   "execution_count": 5,
   "metadata": {},
   "outputs": [
    {
     "name": "stdout",
     "output_type": "stream",
     "text": [
      "[[[1 2 1]\n",
      "  [2 0 1]\n",
      "  [0 1 0]]\n",
      "\n",
      " [[1 1 0]\n",
      "  [0 2 0]\n",
      "  [1 2 2]]\n",
      "\n",
      " [[1 0 1]\n",
      "  [0 0 1]\n",
      "  [1 0 1]]]\n"
     ]
    }
   ],
   "source": [
    "print(arr + arr2)"
   ]
  },
  {
   "cell_type": "code",
   "execution_count": 6,
   "metadata": {},
   "outputs": [
    {
     "data": {
      "text/plain": [
       "array([[0, 1, 0],\n",
       "       [1, 0, 0],\n",
       "       [0, 0, 0]], dtype=int32)"
      ]
     },
     "execution_count": 6,
     "metadata": {},
     "output_type": "execute_result"
    }
   ],
   "source": [
    "\n",
    "arr3 = arr * arr2\n",
    "arr3[0, :, :]"
   ]
  },
  {
   "cell_type": "markdown",
   "metadata": {},
   "source": [
    "## Pandas\n",
    "\n",
    "Pandas is a library in Pythonprovides data analysis tools and structures for the manipulating numeric and time series data.\n",
    "\n",
    "Pandas is great for the preparation / wrangling stages of data science. \n",
    "\n",
    "This involves importing, organizing, labeling, and manipulating the structure and contents. \n",
    "\n",
    "\n",
    "\n",
    "---"
   ]
  },
  {
   "cell_type": "code",
   "execution_count": null,
   "metadata": {},
   "outputs": [],
   "source": [
    "# To start working with pandas, you typically import your data from a csv file to a dataFrame\n",
    "\n",
    "df = pd.read_csv('pokemon.csv')"
   ]
  },
  {
   "cell_type": "code",
   "execution_count": null,
   "metadata": {},
   "outputs": [],
   "source": [
    "# Converting a dataframe into a NumPy array\n",
    "\n",
    "arr = df.to_numpy()\n",
    "print(f'{arr} \\n {type(arr)}')"
   ]
  },
  {
   "cell_type": "markdown",
   "metadata": {},
   "source": [
    "### Pandas Data Structures\n",
    "---"
   ]
  },
  {
   "cell_type": "markdown",
   "metadata": {},
   "source": [
    "The two main data structures used in pandas are Series, and DataFrames"
   ]
  },
  {
   "cell_type": "code",
   "execution_count": null,
   "metadata": {},
   "outputs": [],
   "source": [
    "# A series is a 1-Dimensional array used to store any data type\n",
    "\n",
    "# Numeric Data\n",
    "Data = [1, 3, 4, 5, 6, 2, 9]\n",
    "\n",
    "# Predefined index values\n",
    "Index = ['a', 'b', 'c', 'd', 'e', 'f', 'g']\n",
    "\n",
    "# Creating a series with default index values\n",
    "s = pd.Series(Data)\n",
    "\n",
    "# Creadting a series with predefined index values\n",
    "si = pd.Series(Data, Index)"
   ]
  },
  {
   "cell_type": "code",
   "execution_count": null,
   "metadata": {},
   "outputs": [],
   "source": [
    "print(s)"
   ]
  },
  {
   "cell_type": "code",
   "execution_count": null,
   "metadata": {},
   "outputs": [],
   "source": [
    "print(si)"
   ]
  },
  {
   "cell_type": "code",
   "execution_count": null,
   "metadata": {},
   "outputs": [],
   "source": [
    "# A DataFrame is a 2D representation of a set of data\n",
    "\n",
    "data = {\n",
    "    'Name': ['Sara', 'Andrew', 'Jack', 'Vanamala'],\n",
    "    'Age': [21, 19, 23, 28]\n",
    "}\n",
    "\n",
    "# Create DataFrame\n",
    "df = pd.DataFrame(data)\n",
    "\n",
    "print(df)"
   ]
  },
  {
   "cell_type": "markdown",
   "metadata": {},
   "source": [
    "### Mini Challenge ! :)\n",
    "\n",
    "Create a DataFrame with your own predifined columns, index, and data\n",
    "\n",
    "Use at least 3 different columns\n",
    "\n",
    "---"
   ]
  },
  {
   "cell_type": "code",
   "execution_count": null,
   "metadata": {},
   "outputs": [],
   "source": []
  },
  {
   "cell_type": "markdown",
   "metadata": {},
   "source": [
    "### Indexing and Selecting Data\n",
    "---"
   ]
  },
  {
   "cell_type": "code",
   "execution_count": null,
   "metadata": {},
   "outputs": [],
   "source": [
    "# Example cat owner dataset\n",
    "\n",
    "cat_owners_data = {\n",
    "    'John': ['Garfield', 30, 7, 5],\n",
    "    'Jack': ['Nermal', 5, 1, 9], \n",
    "    'Andrew': ['Socks', 9, 3, 8],\n",
    "    'Vanamala': ['Destroyer', 8, 6, 3]\n",
    "}\n",
    "\n",
    "cat_owners_index = ['Cat Name', 'Weight', 'Age', 'Lives']\n",
    "\n",
    "cat_owners_df = pd.DataFrame(cat_owners_data, cat_owners_index)\n",
    "\n",
    "cat_owners_df"
   ]
  },
  {
   "cell_type": "code",
   "execution_count": null,
   "metadata": {},
   "outputs": [],
   "source": [
    "# methods for indexing and selecting data from DataFrames are .loc() and .iloc()\n",
    "# .iloc() selects elements using integer labels \n",
    "\n",
    "# grabs elements from the second indexed row\n",
    "cat_owners_df.iloc[1]"
   ]
  },
  {
   "cell_type": "code",
   "execution_count": null,
   "metadata": {},
   "outputs": [],
   "source": [
    "# grabs elements from multiple rows\n",
    "cat_owners_df.iloc[[0, 2, 3]]"
   ]
  },
  {
   "cell_type": "code",
   "execution_count": null,
   "metadata": {},
   "outputs": [],
   "source": [
    "# grab elements from the middle two rows, duration and hits\n",
    "cat_owners_df.iloc[1:3]"
   ]
  },
  {
   "cell_type": "code",
   "execution_count": null,
   "metadata": {},
   "outputs": [],
   "source": [
    "# grab elements from the last two rows, and the first two columns\n",
    "cat_owners_df.iloc[[2, 3], [0, 1]]"
   ]
  },
  {
   "cell_type": "code",
   "execution_count": null,
   "metadata": {},
   "outputs": [],
   "source": [
    "# .loc grabs elements using labels\n",
    "# unlike python arrays, pandas 2-d indexing goes df[rows, cols] instead of [col, rows]\n",
    "\n",
    "# grab data only from the row 'misses'\n",
    "cat_owners_df.loc['Cat Name']"
   ]
  },
  {
   "cell_type": "code",
   "execution_count": null,
   "metadata": {},
   "outputs": [],
   "source": [
    "# grab data from multiple rows\n",
    "cat_owners_df.loc[['Cat Name', 'Lives']]"
   ]
  },
  {
   "cell_type": "code",
   "execution_count": null,
   "metadata": {},
   "outputs": [],
   "source": [
    "# grabs all rows from column Vanamala\n",
    "\n",
    "cat_owners_df.loc[:, ['Vanamala']]"
   ]
  },
  {
   "cell_type": "code",
   "execution_count": null,
   "metadata": {},
   "outputs": [],
   "source": [
    "# grab rows calories and duration from column P2 and p3\n",
    "\n",
    "cat_owners_df.loc[['Age', 'Lives'], ['Jack', 'Vanamala']]"
   ]
  },
  {
   "cell_type": "markdown",
   "metadata": {},
   "source": [
    "### Mini Challenge ! :)\n",
    "\n",
    "Write code using iloc() and .loc() to grab the Cat Name and Cat Age rows from owner John\n",
    "\n",
    "---"
   ]
  },
  {
   "cell_type": "code",
   "execution_count": null,
   "metadata": {},
   "outputs": [],
   "source": []
  },
  {
   "cell_type": "markdown",
   "metadata": {},
   "source": [
    "### Viewing Data\n",
    "---"
   ]
  },
  {
   "cell_type": "code",
   "execution_count": null,
   "metadata": {},
   "outputs": [],
   "source": [
    "# .head() displays the first x rows of your data\n",
    "\n",
    "cat_owners_df.head()"
   ]
  },
  {
   "cell_type": "code",
   "execution_count": null,
   "metadata": {},
   "outputs": [],
   "source": [
    "# using a number parameter specifies how many rows you want to display\n",
    "cat_owners_df.head(2)"
   ]
  },
  {
   "cell_type": "code",
   "execution_count": null,
   "metadata": {},
   "outputs": [],
   "source": [
    "# .tail() displays the first x rows of your data\n",
    "\n",
    "cat_owners_df.tail()"
   ]
  },
  {
   "cell_type": "code",
   "execution_count": null,
   "metadata": {},
   "outputs": [],
   "source": [
    "cat_owners_df.tail(3)"
   ]
  },
  {
   "cell_type": "code",
   "execution_count": null,
   "metadata": {},
   "outputs": [],
   "source": [
    "# use .describe() to see statistical descriptions of your data quickly\n",
    "cat_owners_df.describe()"
   ]
  },
  {
   "cell_type": "code",
   "execution_count": null,
   "metadata": {},
   "outputs": [],
   "source": [
    "# use .columns to display your column labels\n",
    "cat_owners_df.columns"
   ]
  },
  {
   "cell_type": "code",
   "execution_count": null,
   "metadata": {},
   "outputs": [],
   "source": [
    "# use .index to display your index labels\n",
    "cat_owners_df.index"
   ]
  },
  {
   "cell_type": "markdown",
   "metadata": {},
   "source": [
    "### Mini Challenge ! :)\n",
    "\n",
    "Grab the last two rows of the df using .tail()\n",
    "\n",
    "---"
   ]
  },
  {
   "cell_type": "code",
   "execution_count": null,
   "metadata": {},
   "outputs": [],
   "source": []
  },
  {
   "cell_type": "markdown",
   "metadata": {},
   "source": [
    "### Operations\n",
    "---"
   ]
  },
  {
   "cell_type": "code",
   "execution_count": null,
   "metadata": {},
   "outputs": [],
   "source": [
    "# Example Ice cream dataset\n",
    "\n",
    "icecream_order_data = {\n",
    "        'Jonathan': ['Chocolate', 20],\n",
    "        'Evan': ['Mint Chip', 13], \n",
    "        'Audrey': ['Chocolate', 18],\n",
    "        'Olivia': ['Vanilla', 10],\n",
    "        'Ethan': ['Mint Chip', 29],\n",
    "        'Jasmine': ['Chocolate', 23],\n",
    "        'Zack': ['Superman', 5]  \n",
    "}\n",
    "\n",
    "icecream_order_index = ['Flavor', 'Age']\n",
    "\n",
    "icecream_order_data = {\n",
    "        'Flavor': ['Chocolate', 'Mint Chip', 'Chocolate', 'Vanilla', 'Mint Chip', 'Chocolate', 'Superman'],\n",
    "        'Age': [20, 13, 18, 10, 29, 23, 5]\n",
    "}\n",
    "\n",
    "icecream_order_index = ['Jonathan', 'Evan', 'Audrey', 'Olivia', 'Ethan', 'Jasmine', 'Zack']\n",
    "\n",
    "icecream_order_df = pd.DataFrame(icecream_order_data, icecream_order_index)\n",
    "\n",
    "icecream_order_df"
   ]
  },
  {
   "cell_type": "code",
   "execution_count": null,
   "metadata": {},
   "outputs": [],
   "source": [
    "# .mean() displays the mean value of your selected data\n",
    "mean = icecream_order_df['Age'].mean()\n",
    "print(mean)"
   ]
  },
  {
   "cell_type": "code",
   "execution_count": null,
   "metadata": {},
   "outputs": [],
   "source": [
    "# .sum() displays the sum of your selected data\n",
    "sum = icecream_order_df['Age'].sum()\n",
    "print(sum)"
   ]
  },
  {
   "cell_type": "code",
   "execution_count": null,
   "metadata": {},
   "outputs": [],
   "source": [
    "# .value_counts counts the number of times a unique value appears\n",
    "icecream_order_df['Flavor'].value_counts()"
   ]
  },
  {
   "cell_type": "code",
   "execution_count": null,
   "metadata": {},
   "outputs": [],
   "source": [
    "# .apply() will take a function and apply it to your data.\n",
    "# This can be a NumPy function\n",
    "\n",
    "icecream_order_df.loc[:, ['Age']].apply(np.sum)"
   ]
  },
  {
   "cell_type": "markdown",
   "metadata": {},
   "source": [
    "### Mini Challenge ! :)\n",
    "\n",
    "Use the .mean() function with your previously created DataFrame\n",
    "\n",
    "---"
   ]
  },
  {
   "cell_type": "code",
   "execution_count": null,
   "metadata": {},
   "outputs": [],
   "source": []
  },
  {
   "cell_type": "markdown",
   "metadata": {},
   "source": [
    "### Manipulating Data\n",
    "\n",
    "---"
   ]
  },
  {
   "cell_type": "code",
   "execution_count": null,
   "metadata": {},
   "outputs": [],
   "source": [
    "# For this section, we will be using the cat owners Dataset\n",
    "\n",
    "cat_owners_df"
   ]
  },
  {
   "cell_type": "code",
   "execution_count": null,
   "metadata": {},
   "outputs": [],
   "source": [
    "# Manually add a new column to the DataFrame\n",
    "\n",
    "cat_info = ['Mittens', 7, 5, 9]\n",
    "cat_owners_df['Dr.Fine'] = cat_info\n",
    "\n",
    "cat_owners_df"
   ]
  },
  {
   "cell_type": "code",
   "execution_count": null,
   "metadata": {},
   "outputs": [],
   "source": [
    "# To insert a list as a new column in a dataframe you can use the .insert() function.\n",
    "# .insert(loc, column, value) \n",
    "\n",
    "cat_info = ['Salem', '5', '10', '1']\n",
    "\n",
    "cat_owners_df.insert(5, 'Sabrina', cat_info)\n",
    "\n",
    "cat_owners_df"
   ]
  },
  {
   "cell_type": "code",
   "execution_count": null,
   "metadata": {},
   "outputs": [],
   "source": [
    "# Insert new column into the 3rd index \n",
    "\n",
    "cat_info = ['Pickles', '2', '6', '9']\n",
    "\n",
    "cat_owners_df.insert(3, 'Sara', cat_info)\n",
    "\n",
    "cat_owners_df"
   ]
  },
  {
   "cell_type": "code",
   "execution_count": null,
   "metadata": {},
   "outputs": [],
   "source": [
    "# To delete a row/column, use the .drop() function\n",
    "# .drop(label, axis, inplace)\n",
    "# axis specifies 1=columns, 0=rows\n",
    "# inplace determines if the original dataframe is altered\n",
    "\n",
    "cat_owners_df.drop('Sabrina', axis=1, inplace=True)\n",
    "\n",
    "cat_owners_df"
   ]
  },
  {
   "cell_type": "code",
   "execution_count": null,
   "metadata": {},
   "outputs": [],
   "source": [
    "# Create a new dataFrame where the row \"Lives\" is dropped\n",
    "\n",
    "cat_owners_df_2 = cat_owners_df.drop('Lives', axis=0, inplace=False)\n",
    "\n",
    "cat_owners_df_2"
   ]
  },
  {
   "cell_type": "markdown",
   "metadata": {},
   "source": [
    "### Mini Challenge ! :)\n",
    "Using your created DataFrame, use .insert() to add a new column, and .drop() to remove a row\n",
    "\n",
    "---"
   ]
  },
  {
   "cell_type": "code",
   "execution_count": null,
   "metadata": {},
   "outputs": [],
   "source": []
  },
  {
   "cell_type": "markdown",
   "metadata": {},
   "source": [
    "### Merging Data\n",
    "\n",
    "---"
   ]
  },
  {
   "cell_type": "code",
   "execution_count": null,
   "metadata": {},
   "outputs": [],
   "source": [
    "# Example employee data\n",
    "data1 = {\n",
    "    'Name': ['Jai', 'Princi', 'Gaurav', 'Anuj'],\n",
    "    'Age': [27, 24, 22, 32],\n",
    "    'Address': ['Nagpur', 'Kanpur', 'Allahabad', 'Kannuaj'],\n",
    "    'Qualification': ['Msc', 'MA', 'MCA', 'Phd']\n",
    "}\n",
    "    \n",
    "\n",
    "data2 = {\n",
    "    'Name': ['Abhi', 'Ayushi', 'Dhiraj', 'Hitesh'],\n",
    "    'Age': [17, 14, 12, 52],\n",
    "    'Address': ['Nagpur', 'Kanpur', 'Allahabad', 'Kannuaj'],\n",
    "    'Qualification': ['Btech', 'B.A', 'Bcom', 'B.hons']\n",
    "}\n",
    "\n",
    "df1 = pd.DataFrame(data1, index=[0, 1, 2, 3])\n",
    "\n",
    "df2 = pd.DataFrame(data2, index=[4, 5, 6, 7])\n",
    "\n",
    "df1"
   ]
  },
  {
   "cell_type": "code",
   "execution_count": null,
   "metadata": {},
   "outputs": [],
   "source": [
    "# merge using the .concat() function\n",
    "\n",
    "frames = [df1, df2]\n",
    "\n",
    "df3 = pd.concat(frames)\n",
    "\n",
    "df3"
   ]
  },
  {
   "cell_type": "code",
   "execution_count": null,
   "metadata": {},
   "outputs": [],
   "source": [
    "# concat two dataframes and group\n",
    "\n",
    "df3 = pd.concat(frames, keys=['DF1', 'DF2'])\n",
    "\n",
    "df3"
   ]
  },
  {
   "cell_type": "code",
   "execution_count": null,
   "metadata": {},
   "outputs": [],
   "source": [
    "# Example dataframes\n",
    "\n",
    "data1 = {\n",
    "    'key': ['K0', 'K1', 'K2', 'K3'],\n",
    "    'Name':['Jai', 'Princi', 'Gaurav', 'Anuj'], \n",
    "    'Age':[27, 24, 22, 32],} \n",
    "   \n",
    "data2 = {\n",
    "    'key': ['K0', 'K1', 'K2', 'K3'],\n",
    "    'Address':['Nagpur', 'Kanpur', 'Allahabad', 'Kannuaj'], \n",
    "    'Qualification':['Btech', 'B.A', 'Bcom', 'B.hons']\n",
    "} \n",
    "\n",
    "df1 = pd.DataFrame(data1)\n",
    "df2 = pd.DataFrame(data2)"
   ]
  },
  {
   "cell_type": "code",
   "execution_count": null,
   "metadata": {},
   "outputs": [],
   "source": [
    "# use the .merge function to merge two dataframes based on a key\n",
    "\n",
    "df3 = pd.merge(df2, df2, on='key')\n",
    "\n",
    "df3"
   ]
  },
  {
   "cell_type": "markdown",
   "metadata": {},
   "source": [
    "### Intermediate pandas with Pokemon Dataset\n",
    "\n",
    "---"
   ]
  },
  {
   "cell_type": "code",
   "execution_count": null,
   "metadata": {},
   "outputs": [],
   "source": [
    "# importing csv data\n",
    "\n",
    "pokemon_df = pd.read_csv('pokemon.csv')\n",
    "\n",
    "pokemon_df.head()"
   ]
  },
  {
   "cell_type": "code",
   "execution_count": null,
   "metadata": {},
   "outputs": [],
   "source": [
    "# you can sort data using .sort_values() function\n",
    "\n",
    "# Sort the DataFrame by Pokemon Name in alphabetical order\n",
    "pokemon_df.sort_values(by='Name')"
   ]
  },
  {
   "cell_type": "code",
   "execution_count": null,
   "metadata": {},
   "outputs": [],
   "source": [
    "# Sort the DataFrame by Pokemon Name in reverse alphabetical order\n",
    "# using the ascending = False parameter\n",
    "pokemon_df.sort_values(by='Name', ascending=False)"
   ]
  },
  {
   "cell_type": "code",
   "execution_count": null,
   "metadata": {},
   "outputs": [],
   "source": [
    "# Sort the DataFrame numerically using Pokemon HP\n",
    "pokemon_df.sort_values(by='HP', ascending=False)"
   ]
  },
  {
   "cell_type": "code",
   "execution_count": null,
   "metadata": {},
   "outputs": [],
   "source": [
    "# You can also sort using multiple values\n",
    "pokemon_df.sort_values(by=['Type 1', 'HP'], ascending=False)"
   ]
  },
  {
   "cell_type": "code",
   "execution_count": null,
   "metadata": {},
   "outputs": [],
   "source": [
    "# Create a column totaling the sum of the major stats\n",
    "pokemon_df['Total_Atk_Dfn'] = pokemon_df['Attack'] + pokemon_df['Defense']\n",
    "pokemon_df"
   ]
  },
  {
   "cell_type": "code",
   "execution_count": null,
   "metadata": {},
   "outputs": [],
   "source": [
    "# Create a column totaling the sum of the major stats using iloc\n",
    "pokemon_df['Total_Atk_Dfn'] = pokemon_df.iloc[:, 6:8].sum(axis=1)\n",
    "pokemon_df"
   ]
  },
  {
   "cell_type": "code",
   "execution_count": null,
   "metadata": {},
   "outputs": [],
   "source": [
    "# Select based on one conditions using loc\n",
    "\n",
    "# Select all pokemon with type 1 = Grass\n",
    "pokemon_df.loc[pokemon_df['Type 1'] == 'Grass']"
   ]
  },
  {
   "cell_type": "code",
   "execution_count": null,
   "metadata": {},
   "outputs": [],
   "source": [
    "# Select based on Multiple conditions using loc\n",
    "\n",
    "# Select all pokemon with type 1 = Grass and Type 2 = Poison\n",
    "pokemon_df.loc[(pokemon_df['Type 1'] == 'Grass') & (pokemon_df['Type 2'] == 'Poison')]"
   ]
  },
  {
   "cell_type": "code",
   "execution_count": null,
   "metadata": {},
   "outputs": [],
   "source": [
    "# Select all pokemon with type 1 = Grass and Type 2 = Poison and HP > 60\n",
    "pokemon_df.loc[(pokemon_df['Type 1'] == 'Grass') & (pokemon_df['Type 2'] == 'Poison') & (pokemon_df['HP'] > 60)]"
   ]
  },
  {
   "cell_type": "code",
   "execution_count": null,
   "metadata": {},
   "outputs": [],
   "source": [
    "# the .contains() function can be used to select data with specific strings\n",
    "\n",
    "# Select all Mega pokemon\n",
    "pokemon_df.loc[pokemon_df['Name'].str.contains('Mega')].head()"
   ]
  },
  {
   "cell_type": "code",
   "execution_count": null,
   "metadata": {},
   "outputs": [],
   "source": [
    "# the ~ can be used to select the opposite\n",
    "\n",
    "# select all non-Mega pokemon\n",
    "pokemon_df.loc[~pokemon_df['Name'].str.contains('Mega')].head()"
   ]
  },
  {
   "cell_type": "markdown",
   "metadata": {},
   "source": [
    "## Visualizing Data"
   ]
  },
  {
   "cell_type": "code",
   "execution_count": null,
   "metadata": {},
   "outputs": [],
   "source": [
    "import matplotlib.pyplot as plt"
   ]
  },
  {
   "cell_type": "code",
   "execution_count": null,
   "metadata": {},
   "outputs": [],
   "source": [
    "# Create a diagonal line in a graph\n",
    "\n",
    "xpoints = np.array([0, 6])\n",
    "ypoints = np.array([0, 250])\n",
    "\n",
    "# Use the matplotlib plot function to draw points on a diagram\n",
    "# The first parameter contains the x axis points, while the second contains y axis points\n",
    "plt.plot(xpoints, ypoints)\n",
    "plt.show()"
   ]
  },
  {
   "cell_type": "code",
   "execution_count": null,
   "metadata": {},
   "outputs": [],
   "source": [
    "# Using different markers\n",
    "# markers can be specified in the plt function parameters using string notation\n",
    "\n",
    "xpoints = np.array([1, 8])\n",
    "ypoints = np.array([3, 10])\n",
    "\n",
    "# Plot as ring markers\n",
    "plt.plot(xpoints, ypoints, 'o')\n",
    "plt.show()"
   ]
  },
  {
   "cell_type": "code",
   "execution_count": null,
   "metadata": {},
   "outputs": [],
   "source": [
    "# Plot multiple points\n",
    "# You can use the marker keyword to emphasize certian points\n",
    "xpoints = np.array([1, 2, 6, 8])\n",
    "ypoints = np.array([3, 8, 1, 10])\n",
    "\n",
    "plt.plot(xpoints, ypoints, marker = '*')\n",
    "plt.show()"
   ]
  },
  {
   "cell_type": "code",
   "execution_count": null,
   "metadata": {},
   "outputs": [],
   "source": [
    "# Use string notation shortcut to specify your line and points\n",
    "# marker|line|color\n",
    "\n",
    "plt.plot(xpoints, ypoints, 'x:r')\n",
    "plt.show()"
   ]
  },
  {
   "cell_type": "code",
   "execution_count": null,
   "metadata": {},
   "outputs": [],
   "source": [
    "# You can also use parameter linestyle or ls, to specify the line\n",
    "\n",
    "plt.plot(xpoints, ypoints, linestyle='dotted')\n",
    "plt.show()"
   ]
  },
  {
   "cell_type": "code",
   "execution_count": null,
   "metadata": {},
   "outputs": [],
   "source": [
    "# You can also plot multiple lines by specifying the x and y points for each line\n",
    "\n",
    "yx1 = np.array([0, 1, 2, 3])\n",
    "y1 = np.array([3, 8, 1, 10])\n",
    "x2 = np.array([0, 1, 2, 3])\n",
    "y2 = np.array([6, 2, 7, 11])\n",
    "\n",
    "plt.plot(y1)\n",
    "plt.plot(y2)\n",
    "\n",
    "plt.show()"
   ]
  },
  {
   "cell_type": "code",
   "execution_count": null,
   "metadata": {},
   "outputs": [],
   "source": [
    "# You can add labels to your plot using plt.xlabel, plt.ylabel, and plt.title\n",
    "\n",
    "plt.plot(y1)\n",
    "plt.plot(y2)\n",
    "plt.xlabel('X axis')\n",
    "plt.ylabel('Y axis')\n",
    "plt.title('Title')\n",
    "plt.show()"
   ]
  },
  {
   "cell_type": "code",
   "execution_count": null,
   "metadata": {},
   "outputs": [],
   "source": [
    "# You can add a grid to your chart using plt.grid()\n",
    "\n",
    "plt.plot(y1)\n",
    "plt.plot(y2)\n",
    "plt.grid()\n",
    "\n",
    "plt.show()"
   ]
  },
  {
   "cell_type": "code",
   "execution_count": null,
   "metadata": {},
   "outputs": [],
   "source": [
    "# You can create a scatter plot using plt.scatter()\n",
    "\n",
    "x = np.array([5,7,8,7,2,17,2,9,4,11,12,9,6])\n",
    "y = np.array([99,86,87,88,111,86,103,87,94,78,77,85,86])\n",
    "\n",
    "plt.scatter(x, y)\n",
    "plt.show()"
   ]
  },
  {
   "cell_type": "code",
   "execution_count": null,
   "metadata": {},
   "outputs": [],
   "source": [
    "# You can create a bar graph using plt.bar()\n",
    "\n",
    "x = np.array([\"A\", \"B\", \"C\", \"D\"])\n",
    "y = np.array([3, 8, 1, 10])\n",
    "\n",
    "plt.bar(x, y)\n",
    "plt.show()"
   ]
  }
 ],
 "metadata": {
  "kernelspec": {
   "display_name": "Python 3",
   "language": "python",
   "name": "python3"
  },
  "language_info": {
   "codemirror_mode": {
    "name": "ipython",
    "version": 3
   },
   "file_extension": ".py",
   "mimetype": "text/x-python",
   "name": "python",
   "nbconvert_exporter": "python",
   "pygments_lexer": "ipython3",
   "version": "3.10.6"
  }
 },
 "nbformat": 4,
 "nbformat_minor": 2
}
