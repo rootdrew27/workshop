{
 "cells": [
  {
   "cell_type": "markdown",
   "metadata": {},
   "source": [
    "# TODO\n",
    "- Rewrite first challenge. \n",
    "- Make Adjust "
   ]
  },
  {
   "cell_type": "markdown",
   "metadata": {},
   "source": [
    "# Introduction to Python"
   ]
  },
  {
   "cell_type": "markdown",
   "metadata": {},
   "source": [
    "## Main Content"
   ]
  },
  {
   "cell_type": "markdown",
   "metadata": {},
   "source": [
    "What is Python used for?\n",
    "- Data Science, Machine Learning, Web Development, Prototyping, Scientific Programming, Scripting, Robotics, etc.\n",
    "\n",
    "Why use Python?\n",
    "- Python is a high-level language: it is easy to write and it is easy to read.\n",
    "- Resources for learning Python are all over the web.\n",
    "\n",
    "Jupyter Notebook & Google Colab\n",
    "- Used for scientific programming and prototyping.\n",
    "- Variables are stored.\n",
    "- Colab is a free cloud environment where Jupyter notebooks (.ipynb files) can be ran.\n",
    "\n",
    "Whats the purpose of this notebook?\n",
    "- Introduce beginning programmers to python syntax, logic, and philosophy.\n",
    "- This notebook covers the fundamentals of programming and dives into some specifics of Python."
   ]
  },
  {
   "cell_type": "code",
   "execution_count": 37,
   "metadata": {},
   "outputs": [],
   "source": [
    "# Data Types\n",
    "\n",
    "a = \"Hello\" # string\n",
    "b = 1 # integer\n",
    "c = 0.1 # float\n",
    "\n",
    "d = [1, 2, 'c'] # list\n",
    "e = (1, 2, 'c') # tuple\n",
    "f = {'a': 1, 'b': 2} # dictionary\n",
    "\n",
    "g = True # bool\n",
    "i = None # null\n",
    "\n",
    "# and many more"
   ]
  },
  {
   "cell_type": "markdown",
   "metadata": {},
   "source": [
    "### Strings \n",
    "---"
   ]
  },
  {
   "cell_type": "code",
   "execution_count": null,
   "metadata": {},
   "outputs": [],
   "source": [
    "# in Java: String greeting = \"Hello\";\n",
    "\n",
    "s1 = \"This is a string. Pretty neat.\"\n",
    "\n",
    "s2 = 'This is a string 2.'\n",
    "\n",
    "s3 = \"'Really?', you ask.\"\n",
    "\n",
    "s4 = 'Y'\n",
    "\n",
    "s5 = '''I guess thats just\n",
    "how python works...'''\n",
    "\n",
    "print(s1)\n",
    "print(s2)\n",
    "print(s3)\n",
    "print(s4)\n",
    "print(s5)"
   ]
  },
  {
   "cell_type": "code",
   "execution_count": null,
   "metadata": {},
   "outputs": [],
   "source": [
    "# in Java: System.out.println(\"The length of the txt string is: \" + txt.length());\n",
    "\n",
    "a_str = \"This is a string.\"\n",
    "an_str = \"This is another.\"\n",
    "\n",
    "# print styles\n",
    "print(a_str, an_str)\n",
    "print(a_str + \" \" + an_str)\n",
    "print(\"{} {}\".format(a_str, an_str))\n",
    "print(\"%s %s\" % (a_str, an_str))\n",
    "print(f'{a_str} {an_str}')"
   ]
  },
  {
   "cell_type": "code",
   "execution_count": null,
   "metadata": {},
   "outputs": [],
   "source": [
    "#indexing\n",
    "s = \"Hello\"\n",
    "\n",
    "print(f's[0] = {s[0]}')"
   ]
  },
  {
   "cell_type": "code",
   "execution_count": null,
   "metadata": {},
   "outputs": [],
   "source": [
    "# length\n",
    "s = \"Hello\"\n",
    "len(s)"
   ]
  },
  {
   "cell_type": "code",
   "execution_count": null,
   "metadata": {},
   "outputs": [],
   "source": [
    "# substrings\n",
    "print(\"Welcome\" in s)\n",
    "\n",
    "print(\"H\" in s)"
   ]
  },
  {
   "cell_type": "code",
   "execution_count": null,
   "metadata": {},
   "outputs": [],
   "source": [
    "# other string methods\n",
    "s = \"Welcome\"\n",
    "\n",
    "print(f\"lowercase:                {s.lower()}\")\n",
    "print(f\"UPPERCASE:                {s.upper()}\")\n",
    "print(f\"Count of W's:             {s.count('W')}\")\n",
    "print(f\"Count of w's:             {s.count('w')}\")\n",
    "print(f\"Replace 'elco' with 'ak': {s.replace('elcom', 'ak')}\")\n",
    "print(f\"The first time an 'e' appears is at index {s.find('e')}\")"
   ]
  },
  {
   "cell_type": "code",
   "execution_count": null,
   "metadata": {},
   "outputs": [],
   "source": [
    "# splitting\n",
    "s = \"Welcome to the Python Workshop  \"\n",
    "\n",
    "s1 = s.strip()\n",
    "\n",
    "print(s1)\n",
    "\n",
    "strs = s.split()\n",
    "\n",
    "print(strs)"
   ]
  },
  {
   "cell_type": "markdown",
   "metadata": {},
   "source": [
    "Find more string [methods here](https://docs.python.org/3/library/stdtypes.html#string-methods)."
   ]
  },
  {
   "cell_type": "markdown",
   "metadata": {},
   "source": [
    "#### Mini Challenge\n",
    "\n",
    "---\n",
    "\n",
    "1. Create a string with the value \"Welcome one. Welcome all!\" (this is done for you).\n",
    "<br/><br/>\n",
    "2. Strip the `?` character from the string.\n",
    "<br/><br/>\n",
    "3. Replace 'Welcome' with 'WELCOME' and set the result equal to `s1`.\n",
    "<br/><br/>\n",
    "4. Make a fancy print statement which indicates if \"Welcome\" a substring of your new string.\n",
    "<br/><br/>\n",
    "5. Get the count of \"E\"s in your string and print it out nicely (try a different print style). \n",
    "<br/><br/>\n",
    "6. Print out the string resulting from all of these operations.\n",
    "<br/><br/>\n",
    "6. BONUS: Why were both `Welcome`s changed by the `.replace()` method? Can you change the first one only? Print out the new string.\n"
   ]
  },
  {
   "cell_type": "code",
   "execution_count": null,
   "metadata": {},
   "outputs": [],
   "source": [
    "s0 = \"Welcome one. Welcome all!?\""
   ]
  },
  {
   "cell_type": "markdown",
   "metadata": {},
   "source": [
    "### Ints and Floats (Numeric Types)\n",
    "---"
   ]
  },
  {
   "cell_type": "code",
   "execution_count": 46,
   "metadata": {},
   "outputs": [],
   "source": [
    "a = 5\n",
    "b = -2\n",
    "\n",
    "c = -34.127647\n",
    "d = 3.14159\n",
    "e = 2.71828"
   ]
  },
  {
   "cell_type": "code",
   "execution_count": null,
   "metadata": {},
   "outputs": [],
   "source": [
    "#operations\n",
    "\n",
    "a, b, c = 5, 1, 3\n",
    "\n",
    "print(f'a + b = {a + b}') # addition\n",
    "print(f'a - b = {a - b}') # subtraction\n",
    "print(f'a * b = {a * c}') # multiplication\n",
    "print(f'a / b = {a / c}') # division\n",
    "print(f'a % c = {a % c}') # modulus\n",
    "print(f'a ** c = {a ** c}') # exponentiation\n",
    "print(f'a // c = {a // c}') # integer division"
   ]
  },
  {
   "cell_type": "code",
   "execution_count": null,
   "metadata": {},
   "outputs": [],
   "source": [
    "# type conversion\n",
    "\n",
    "a = int(2.71)\n",
    "\n",
    "print(a)"
   ]
  },
  {
   "cell_type": "code",
   "execution_count": null,
   "metadata": {},
   "outputs": [],
   "source": [
    "# implicit type conversion\n",
    "a = 1\n",
    "b = 2.0\n",
    "\n",
    "c = a + b\n",
    "\n",
    "type(c) "
   ]
  },
  {
   "cell_type": "code",
   "execution_count": 110,
   "metadata": {},
   "outputs": [
    {
     "data": {
      "text/plain": [
       "type"
      ]
     },
     "execution_count": 110,
     "metadata": {},
     "output_type": "execute_result"
    }
   ],
   "source": [
    "# with this in mind... what is happening when we call int()\n",
    "\n",
    "type(int) # any guesses why?"
   ]
  },
  {
   "cell_type": "code",
   "execution_count": null,
   "metadata": {},
   "outputs": [],
   "source": [
    "# pemdas\n",
    "\n",
    "print(3 + 2 * 2)\n",
    "print((3 + 2) * 2)\n",
    "print(2**2 + 2)"
   ]
  },
  {
   "cell_type": "code",
   "execution_count": null,
   "metadata": {},
   "outputs": [],
   "source": [
    "# floating points\n",
    "\n",
    "a = 1/10\n",
    "print(f'{a:.5f}')\n",
    "print(f'{a:.5e}')\n",
    "print(f'{a:.20f}')"
   ]
  },
  {
   "cell_type": "markdown",
   "metadata": {},
   "source": [
    "### Lists, Tuples, Ranges, and Strings again (Sequence Types)\n",
    "---"
   ]
  },
  {
   "cell_type": "markdown",
   "metadata": {},
   "source": [
    "#### List"
   ]
  },
  {
   "cell_type": "code",
   "execution_count": 51,
   "metadata": {},
   "outputs": [],
   "source": [
    "# List\n",
    "a = [1, 2, 3, 4]\n",
    "b = [\"Hi\", \"My\", \"Name\", \"Is\"]\n",
    "c = [0.1, \"Hi\", 3, [1, 2]]"
   ]
  },
  {
   "cell_type": "code",
   "execution_count": null,
   "metadata": {},
   "outputs": [],
   "source": [
    "# Indexing\n",
    "a = [1, 2, 3, 4]\n",
    "\n",
    "print(f'a[0]:  {a[0]}')\n",
    "print(f'a[-1]: {a[-1]}')\n",
    "print(f'a[1:3]: {a[1:3]}')"
   ]
  },
  {
   "cell_type": "code",
   "execution_count": null,
   "metadata": {},
   "outputs": [],
   "source": [
    "# "
   ]
  },
  {
   "cell_type": "code",
   "execution_count": 112,
   "metadata": {},
   "outputs": [
    {
     "name": "stdout",
     "output_type": "stream",
     "text": [
      "[1, 2, 3, 4]\n"
     ]
    }
   ],
   "source": [
    "a = [2, 4, 3, 1]\n",
    "\n",
    "a.sort()\n",
    "\n",
    "print(a)"
   ]
  },
  {
   "cell_type": "code",
   "execution_count": null,
   "metadata": {},
   "outputs": [],
   "source": [
    " "
   ]
  },
  {
   "cell_type": "markdown",
   "metadata": {},
   "source": [
    "#### Tuple"
   ]
  },
  {
   "cell_type": "code",
   "execution_count": 99,
   "metadata": {},
   "outputs": [],
   "source": [
    "# Tuples\n",
    "a = (1, 2, 3)\n",
    "b = (\"Hi\", \"My\", \"Name\", \"Is\")\n",
    "c = \"Hi\", 1"
   ]
  },
  {
   "cell_type": "code",
   "execution_count": null,
   "metadata": {},
   "outputs": [],
   "source": [
    "# indexing\n",
    "print(f'a[0]:  {a[0]}')\n",
    "print(f'a[-1]: {a[-1]}')\n",
    "print(f'a[1:3]: {a[1:3]}')"
   ]
  },
  {
   "cell_type": "code",
   "execution_count": null,
   "metadata": {},
   "outputs": [],
   "source": [
    "# importantly, you can not set values of a tuple (more on this later)\n",
    "\n",
    "a[0] = 1"
   ]
  },
  {
   "cell_type": "markdown",
   "metadata": {},
   "source": [
    "#### Range"
   ]
  },
  {
   "cell_type": "code",
   "execution_count": null,
   "metadata": {},
   "outputs": [],
   "source": [
    "r = range(3)\n",
    "\n",
    "print(r)"
   ]
  },
  {
   "cell_type": "code",
   "execution_count": null,
   "metadata": {},
   "outputs": [],
   "source": [
    "print(f'a[0]:  {r[0]}')\n",
    "print(f'a[-1]: {r[-1]}')\n",
    "print(f'a[1:3]: {r[1:3]}')"
   ]
  },
  {
   "cell_type": "code",
   "execution_count": null,
   "metadata": {},
   "outputs": [],
   "source": [
    "b = range(0, 7, 2)\n",
    "\n",
    "print(f\"b[2]: {b[2]}\") # but why?"
   ]
  },
  {
   "cell_type": "markdown",
   "metadata": {},
   "source": [
    "#### Strings again"
   ]
  },
  {
   "cell_type": "code",
   "execution_count": null,
   "metadata": {},
   "outputs": [],
   "source": [
    "# Lets see what we can do with strings\n",
    "\n",
    "s = \"Hello\"\n",
    "\n",
    "print(f'a[0]:  {s[0]}')\n",
    "print(f'a[-1]: {s[-1]}')\n",
    "print(f'a[1:3]: {s[1:3]}')"
   ]
  },
  {
   "cell_type": "code",
   "execution_count": null,
   "metadata": {},
   "outputs": [],
   "source": [
    "# similar to tuples, you can not set values of a string\n",
    "s[0] = \"Y\""
   ]
  },
  {
   "cell_type": "markdown",
   "metadata": {},
   "source": [
    "#### Common Operators"
   ]
  },
  {
   "cell_type": "code",
   "execution_count": null,
   "metadata": {},
   "outputs": [],
   "source": [
    "# the Sequence types share common operators\n",
    "\n",
    "print(1 in [1, 2, 3])\n",
    "print(1 in (1, 2, 3))\n",
    "print(1 in range(3))\n",
    "print(\"H\" in \"Hello\")"
   ]
  },
  {
   "cell_type": "code",
   "execution_count": null,
   "metadata": {},
   "outputs": [],
   "source": []
  },
  {
   "cell_type": "code",
   "execution_count": null,
   "metadata": {},
   "outputs": [],
   "source": [
    "# in \n",
    "# + \n",
    "# * \n",
    "# etc"
   ]
  },
  {
   "cell_type": "markdown",
   "metadata": {},
   "source": [
    "#### Loops"
   ]
  },
  {
   "cell_type": "code",
   "execution_count": null,
   "metadata": {},
   "outputs": [],
   "source": [
    "# Loops\n",
    "\n",
    "my_list = ['Hi', 'Python', 'People']\n",
    "\n",
    "# the good ole while loop\n",
    "\n",
    "i = 0\n",
    "while(i < len(my_list)):\n",
    "    print(f'The item at index {i} in the list: {my_list[i]}')\n",
    "    i+=1"
   ]
  },
  {
   "cell_type": "code",
   "execution_count": 120,
   "metadata": {},
   "outputs": [
    {
     "ename": "SyntaxError",
     "evalue": "invalid syntax (7089532.py, line 5)",
     "output_type": "error",
     "traceback": [
      "\u001b[1;36m  Cell \u001b[1;32mIn[120], line 5\u001b[1;36m\u001b[0m\n\u001b[1;33m    for item in #####:\u001b[0m\n\u001b[1;37m                ^\u001b[0m\n\u001b[1;31mSyntaxError\u001b[0m\u001b[1;31m:\u001b[0m invalid syntax\n"
     ]
    }
   ],
   "source": [
    "my_list = ['Hi', 'Python', 'People']\n",
    "\n",
    "# the python for loop\n",
    "\n",
    "for item in #####:\n",
    "    print(f'{item}')"
   ]
  },
  {
   "cell_type": "code",
   "execution_count": null,
   "metadata": {},
   "outputs": [],
   "source": [
    "a = [\"Hi\", \"Python\", \"People\"]\n",
    "\n",
    "# the enumerate method\n",
    "\n",
    "for i, item in enumerate(my_list):\n",
    "    if i == 1: break #continue \n",
    "    print(f'The item at index {i} in the list: {item}')\n",
    "    "
   ]
  },
  {
   "cell_type": "code",
   "execution_count": null,
   "metadata": {},
   "outputs": [],
   "source": [
    "# aside about Pythonic coding...\n",
    "\n",
    "a = [1, 2, 3]\n",
    "\n",
    "# list comprehension\n",
    "b = [item + 1 for item in a]\n",
    "\n",
    "print(b)"
   ]
  },
  {
   "cell_type": "code",
   "execution_count": null,
   "metadata": {},
   "outputs": [],
   "source": [
    "# brief mention of if-else\n",
    "\n",
    "a = 'red'\n",
    "b = 'blue'\n",
    "\n",
    "if a == 'red' or b == 'green':\n",
    "    print(\"Yes\")\n",
    "else:\n",
    "    print(\"No\")"
   ]
  },
  {
   "cell_type": "code",
   "execution_count": null,
   "metadata": {},
   "outputs": [],
   "source": [
    "a = True\n",
    "b = True\n",
    "\n",
    "if a and b:\n",
    "    print('Both')    \n",
    "elif a:\n",
    "    print('Just a')\n",
    "elif b:\n",
    "    print('Just b')\n",
    "else:\n",
    "    print('Neither')"
   ]
  },
  {
   "cell_type": "code",
   "execution_count": null,
   "metadata": {},
   "outputs": [],
   "source": [
    "# list comprehension with conditionals\n",
    "\n",
    "a = [1, 2, 3]\n",
    "\n",
    "b = [item * 2 for item in a if item == 1] \n",
    "\n",
    "print(b)"
   ]
  },
  {
   "cell_type": "code",
   "execution_count": null,
   "metadata": {},
   "outputs": [],
   "source": [
    "# builtins\n",
    "a = [1, 2, 3]\n",
    "b = [4, 5, 6]\n",
    "\n",
    "sum_a = sum(a)\n",
    "len_b = len(b)\n",
    "\n",
    "print(f'sum_a = {sum_a}')\n",
    "print(f'len_b = {len_b}')"
   ]
  },
  {
   "cell_type": "code",
   "execution_count": null,
   "metadata": {},
   "outputs": [],
   "source": [
    "# list methods\n",
    "a = [1, 2, 3]\n",
    "b = [4, 5, 6]\n",
    "\n",
    "a.append('') # the linter makes a mistake here \n",
    "print(f'a = {a}')\n",
    "\n",
    "a.extend(b)\n",
    "print(f'a = {a}')"
   ]
  },
  {
   "cell_type": "markdown",
   "metadata": {},
   "source": [
    "Find more [list methods here](https://docs.python.org/3/tutorial/datastructures.html#data-structures).\n",
    "\n",
    "Find more on other [sequence types here](https://docs.python.org/3/library/stdtypes.html#sequence-types-list-tuple-range)."
   ]
  },
  {
   "cell_type": "markdown",
   "metadata": {},
   "source": [
    "#### Mini Challenge\n",
    "\n",
    "---\n",
    "\n",
    "1. Calculate the sum of all even integers in the range 0-20.\n",
    "<br/>\n",
    "<br/>\n",
    "2. Perform task 1 again but use a different loop style.\n",
    "<br/>\n",
    "<br/>\n",
    "3. BONUS: Use list comprehension to create a list of lists where each sub-list contains 3 digits, and the digits span 1 through 9 (the result should be `[[1, 2, 3], [4, 5, 6], [7, 8, 9]]`)."
   ]
  },
  {
   "cell_type": "code",
   "execution_count": 65,
   "metadata": {},
   "outputs": [],
   "source": [
    "# do challenge here\n"
   ]
  },
  {
   "cell_type": "markdown",
   "metadata": {},
   "source": [
    "### Magic Methods\n",
    "---"
   ]
  },
  {
   "cell_type": "code",
   "execution_count": null,
   "metadata": {},
   "outputs": [],
   "source": [
    "# You may loop over any object which implements the __iter__ method defined (which should return an object that implemetns __next__)\n",
    "\n",
    "a = (0,1)\n",
    "b = [0, 1]\n",
    "c = range(0,10)\n",
    "d = \"Hello\"\n",
    "e = 123\n",
    "\n",
    "# Lets check...\n",
    "# using the hasattr function\n",
    "\n",
    "print(f\"Tuples? {hasattr(a, '__iter__')}\")\n",
    "print(f\"Lists? {hasattr(b, '__iter__')}\")\n",
    "print(f\"Ranges? {hasattr(c, '__iter__')}\")\n",
    "print(f\"Strings? {hasattr(d, '__iter__')}\")\n",
    "print(f\"Integers? {hasattr(e, '__iter__')}\")"
   ]
  },
  {
   "cell_type": "code",
   "execution_count": 67,
   "metadata": {},
   "outputs": [],
   "source": [
    "# some magic methods that we've been calling\n",
    "\n",
    "# __init__\n",
    "# __iter__\n",
    "# __next__\n",
    "# __sum__\n",
    "# __len__\n",
    "# __getitem__\n",
    "# etc"
   ]
  },
  {
   "cell_type": "markdown",
   "metadata": {},
   "source": [
    "### Immutable vs Mutable\n",
    "---"
   ]
  },
  {
   "cell_type": "code",
   "execution_count": null,
   "metadata": {},
   "outputs": [],
   "source": [
    "a = 1\n",
    "b = a\n",
    "a = 3\n",
    "\n",
    "print(f'a: {a}')\n",
    "print(f'b: {b}')"
   ]
  },
  {
   "cell_type": "code",
   "execution_count": null,
   "metadata": {},
   "outputs": [],
   "source": [
    "# list\n",
    "\n",
    "a = [1, 2, 3]\n",
    "b = a\n",
    "a[0] = 4\n",
    "\n",
    "print(f'a: {a}')\n",
    "print(f'b: {b}')"
   ]
  },
  {
   "cell_type": "code",
   "execution_count": null,
   "metadata": {},
   "outputs": [],
   "source": [
    "a = [1, 2, 3]\n",
    "b = a[:3]\n",
    "a[0] = 4\n",
    "\n",
    "print(f'a: {a}')\n",
    "print(f'b: {b}')"
   ]
  },
  {
   "cell_type": "code",
   "execution_count": null,
   "metadata": {},
   "outputs": [],
   "source": [
    "a = [1, 2, 3]\n",
    "b = a.copy()\n",
    "a[0] = 4\n",
    "\n",
    "print(f'a: {a}')\n",
    "print(f'b: {b}')"
   ]
  },
  {
   "cell_type": "markdown",
   "metadata": {},
   "source": [
    "### Dictionary (i.e. Hash Map)\n",
    "---"
   ]
  },
  {
   "cell_type": "code",
   "execution_count": null,
   "metadata": {},
   "outputs": [],
   "source": [
    "# one usage of immutable objects is that they are hashable\n",
    "\n",
    "a = (1, \"Hi\")\n",
    "b = [1, \"Hi\"]\n",
    "\n",
    "a_hash = hash(a)\n",
    "b_hash = hash(b)\n",
    "\n",
    "# print(a_hash)"
   ]
  },
  {
   "cell_type": "markdown",
   "metadata": {},
   "source": [
    "This allows us to use a tuple (or any immutable item) as a key in a dictionary."
   ]
  },
  {
   "cell_type": "code",
   "execution_count": null,
   "metadata": {},
   "outputs": [],
   "source": [
    "d = {'a': 1, 'b': 3, 'c': 5}\n",
    "\n",
    "print(d)"
   ]
  },
  {
   "cell_type": "code",
   "execution_count": null,
   "metadata": {},
   "outputs": [],
   "source": [
    "# store\n",
    "\n",
    "d['a'] = 0\n",
    "\n",
    "print(d)"
   ]
  },
  {
   "cell_type": "code",
   "execution_count": null,
   "metadata": {},
   "outputs": [],
   "source": [
    "# extract\n",
    "\n",
    "a = d['a']\n",
    "\n",
    "print(a)"
   ]
  },
  {
   "cell_type": "code",
   "execution_count": null,
   "metadata": {},
   "outputs": [],
   "source": [
    "# alternatively\n",
    "\n",
    "d.get('d', \"Nothing\")"
   ]
  },
  {
   "cell_type": "code",
   "execution_count": null,
   "metadata": {},
   "outputs": [],
   "source": [
    "c = d.pop('c')\n",
    "\n",
    "print(c)\n",
    "print(f'New Dictionary: {d}')"
   ]
  },
  {
   "cell_type": "code",
   "execution_count": null,
   "metadata": {},
   "outputs": [],
   "source": [
    "d.update(a=2, c=10)\n",
    "\n",
    "print(d)"
   ]
  },
  {
   "cell_type": "code",
   "execution_count": null,
   "metadata": {},
   "outputs": [],
   "source": [
    "# or unpack a dictionary\n",
    "d.update(**{'a': 30, 'x': 10})\n",
    "\n",
    "print(d)"
   ]
  },
  {
   "cell_type": "code",
   "execution_count": null,
   "metadata": {},
   "outputs": [],
   "source": [
    "# iterate over the dictionary\n",
    "\n",
    "for k, v in d.items():\n",
    "    print(f'KEY: {k}, VALUE: {v}')"
   ]
  },
  {
   "cell_type": "code",
   "execution_count": null,
   "metadata": {},
   "outputs": [],
   "source": [
    "# just the keys\n",
    "\n",
    "for k in d.keys():\n",
    "    print(f'KEY: {k}')"
   ]
  },
  {
   "cell_type": "code",
   "execution_count": null,
   "metadata": {},
   "outputs": [],
   "source": [
    "# just the values\n",
    "\n",
    "for v in d.values():\n",
    "    print(f'VALUE: {v}')"
   ]
  },
  {
   "cell_type": "code",
   "execution_count": null,
   "metadata": {},
   "outputs": [],
   "source": [
    "# values can be object\n",
    "\n",
    "d = {'a': [1,2,3], 'b': \"Hello\", 'c': 22, 'd': len}"
   ]
  },
  {
   "cell_type": "markdown",
   "metadata": {},
   "source": [
    "#### Mini Challenge\n",
    "---\n",
    "\n",
    "1. First, change the \"Hobbies\" list in the dictionary below, so that Sara's hobby is now \"Reading\". \n",
    "<br/><br/>\n",
    "2. Now, create a new entry in the dictionary with the key, \"Favorite Number\" and the value as a list of numbers, where each number is equal to the length of each person's name plus their age. **Do this PROGRAMATICALLY**! (Note: Andrew's favorite number is 38)\n",
    "<br/><br/>\n",
    "3. **BONUS**: Use list comprehension notation along with the `zip()` function."
   ]
  },
  {
   "cell_type": "code",
   "execution_count": 31,
   "metadata": {},
   "outputs": [],
   "source": [
    "d = {\n",
    "    'Name': [\"Andrew\", \"Sara\", \"Jack\", \"Vanamala\"],\n",
    "    'Hobby': [\"Eating\", \"Sleeping\", \"Running\", \"Jumping\"],\n",
    "    'Pet': [\"Scruff\", \"Tater\", \"Rufus\", None],\n",
    "    'Age': [32, 22, 30, 27]\n",
    "}"
   ]
  },
  {
   "cell_type": "code",
   "execution_count": null,
   "metadata": {},
   "outputs": [],
   "source": []
  },
  {
   "cell_type": "markdown",
   "metadata": {},
   "source": [
    "### Functions\n",
    "---"
   ]
  },
  {
   "cell_type": "code",
   "execution_count": 114,
   "metadata": {},
   "outputs": [],
   "source": [
    "def myFunc(p1, p2):\n",
    "    p1 = p1 + p2\n",
    "\n",
    "    return p1"
   ]
  },
  {
   "cell_type": "code",
   "execution_count": 115,
   "metadata": {},
   "outputs": [
    {
     "name": "stdout",
     "output_type": "stream",
     "text": [
      "result = 5\n",
      "a = 2\n",
      "b = 3\n"
     ]
    }
   ],
   "source": [
    "a = 2\n",
    "b = 3\n",
    "\n",
    "print(f'result = {myFunc(a, b)}')\n",
    "print(f'a = {a}')\n",
    "print(f'b = {b}')"
   ]
  },
  {
   "cell_type": "code",
   "execution_count": 116,
   "metadata": {},
   "outputs": [
    {
     "name": "stdout",
     "output_type": "stream",
     "text": [
      "result = [2, 3]\n",
      "a = [2]\n",
      "b = [3]\n"
     ]
    }
   ],
   "source": [
    "a = [2]\n",
    "b = [3]\n",
    "\n",
    "print(f'result = {myFunc(p1=a, p2=b)}')\n",
    "print(f'a = {a}')\n",
    "print(f'b = {b}')"
   ]
  },
  {
   "cell_type": "code",
   "execution_count": 117,
   "metadata": {},
   "outputs": [],
   "source": [
    "def myFunc2(p1):\n",
    "    p1.append(1)\n",
    "    return p1"
   ]
  },
  {
   "cell_type": "code",
   "execution_count": 118,
   "metadata": {},
   "outputs": [
    {
     "name": "stdout",
     "output_type": "stream",
     "text": [
      "result = [2, 1]\n",
      "a = [2, 1]\n"
     ]
    }
   ],
   "source": [
    "a = [2]\n",
    "\n",
    "\n",
    "print(f'result = {myFunc2(a)}')\n",
    "print(f'a = {a}')"
   ]
  },
  {
   "cell_type": "code",
   "execution_count": null,
   "metadata": {},
   "outputs": [],
   "source": [
    "# functions are objects\n",
    "\n",
    "def f1(f, x):\n",
    "    print(\"This is a wrapper function\")\n",
    "    return f(x)\n",
    "\n",
    "def f2(x):\n",
    "    return x ** 2 + 1\n",
    "\n",
    "f1(f2, 2)"
   ]
  },
  {
   "cell_type": "code",
   "execution_count": null,
   "metadata": {},
   "outputs": [],
   "source": [
    "# methods are a subset of functions\n",
    "\n",
    "a = [1, 2]\n",
    "\n",
    "a.append(3) # this is a method\n",
    "sum(a) # this is a function"
   ]
  },
  {
   "cell_type": "code",
   "execution_count": null,
   "metadata": {},
   "outputs": [],
   "source": [
    "# lets explore some other builtin functions\n",
    "\n",
    "a = input(\"Please enter your name:\")\n",
    "\n",
    "print(f'Your name is {a}.')"
   ]
  },
  {
   "cell_type": "code",
   "execution_count": null,
   "metadata": {},
   "outputs": [],
   "source": [
    "a = input(\"Please enter a number:\")\n",
    "\n",
    "print(f'The type of a is: {type(a)}')"
   ]
  },
  {
   "cell_type": "code",
   "execution_count": 124,
   "metadata": {},
   "outputs": [],
   "source": [
    "# explicit type conversion\n",
    "\n",
    "a = int('1')\n",
    "b = str(1)\n",
    "c = tuple([1,2,3])"
   ]
  },
  {
   "cell_type": "code",
   "execution_count": null,
   "metadata": {},
   "outputs": [],
   "source": [
    "print(f'a is of the type {type(a)}')\n",
    "print(f'b is of the type {type(b)}')\n",
    "print(f'c is of the type {type(c)}')"
   ]
  },
  {
   "cell_type": "markdown",
   "metadata": {},
   "source": [
    "#### Mini Challenge\n",
    "\n",
    "---\n",
    "1. Start by requesting an integer from the user with the `input` function, name the variable that you assign to this integer `num_of_iters`.\n",
    "<br/><br/>\n",
    "2. Now, create a `for` loop and request an integer from the user on each iteration. Use the `num_of_iters` variable to set the number of iterations for the loop.\n",
    "<br/><br/>\n",
    "3. During the loop, each integer entered by the user should be appended to a list.\n",
    "<br/><br/>\n",
    "4. The for loop should end (i.e. `break`) when the user enters a 0. \n",
    "<br/><br/>\n",
    "5. After the loop ends call a function which will calculate the sum and mean of integers in the list.\n",
    "<br/>Note that **mean** = $\\dfrac{x_1 + x_2 + ... +x_n}{n}$ where $n$ is the length of the list.\n",
    "<br/><br/>\n",
    "6. The function should return both the sum and the mean, and then you should print both (with informative text).\n",
    "<br/><br/>\n",
    "\n",
    "\n"
   ]
  },
  {
   "cell_type": "code",
   "execution_count": null,
   "metadata": {},
   "outputs": [],
   "source": [
    "# do the challenge here"
   ]
  },
  {
   "cell_type": "markdown",
   "metadata": {},
   "source": [
    "### File Handlers\n",
    "---"
   ]
  },
  {
   "cell_type": "code",
   "execution_count": 134,
   "metadata": {},
   "outputs": [],
   "source": [
    "# write to a file\n",
    "\n",
    "f = open('my_file.txt', 'w')\n",
    "f.writelines([\"Python is my favorite language.\\n\", \"Java is ok too.\"])\n",
    "f.close()"
   ]
  },
  {
   "cell_type": "code",
   "execution_count": null,
   "metadata": {},
   "outputs": [],
   "source": [
    "# reading\n",
    "\n",
    "f = open('my_file.txt', 'r')\n",
    "lines = f.readlines()\n",
    "f.close()\n",
    "\n",
    "print(lines)"
   ]
  },
  {
   "cell_type": "code",
   "execution_count": null,
   "metadata": {},
   "outputs": [],
   "source": [
    "# alternatively\n",
    "\n",
    "with open('my_file.txt', 'r') as f:\n",
    "    lines = f.readlines()\n",
    "\n",
    "print(lines)\n",
    "\n",
    "# note the differences... What do you think the 'with' statement does?"
   ]
  },
  {
   "cell_type": "markdown",
   "metadata": {},
   "source": [
    "### Python Modules and Packages\n",
    "---"
   ]
  },
  {
   "cell_type": "markdown",
   "metadata": {},
   "source": [
    "**Note on packages and modules**:\n",
    "\n",
    "\"You can think of packages as the directories on a file system and modules as files within directories, but don’t take this analogy too literally since packages and modules need not originate from the file system.\"\n",
    "\n",
    "**Module**:\n",
    "\n",
    "A module is a file containing Python definitions and statements. The file name is the module name with the suffix .py appended.\n",
    "\n",
    "**Package**:\n",
    "\n",
    "Packages are a way of structuring Python’s module namespace by using “dotted module names”.\n",
    "\n",
    "**Script**\n",
    "\n",
    "A python module, made with intent of being ran directly (e.g. `python script.py`)"
   ]
  },
  {
   "cell_type": "code",
   "execution_count": 141,
   "metadata": {},
   "outputs": [],
   "source": [
    "import math\n",
    "from math import ceil # import a function\n",
    "from math import pi # import a constant"
   ]
  },
  {
   "cell_type": "code",
   "execution_count": null,
   "metadata": {},
   "outputs": [],
   "source": [
    "r = 1\n",
    "\n",
    "area = pi * (r**2) \n",
    "\n",
    "print(f'Area of the circle: {area}')"
   ]
  },
  {
   "cell_type": "code",
   "execution_count": null,
   "metadata": {},
   "outputs": [],
   "source": [
    "a = 2.71\n",
    "\n",
    "b = ceil(a)\n",
    "\n",
    "c = math.ceil(a)\n",
    "\n",
    "print(f'b = {b} and c = {c}')"
   ]
  },
  {
   "cell_type": "code",
   "execution_count": null,
   "metadata": {},
   "outputs": [],
   "source": [
    "# if a package is not installed...\n",
    "\n",
    "%pip install pandas"
   ]
  },
  {
   "cell_type": "code",
   "execution_count": 9,
   "metadata": {},
   "outputs": [],
   "source": [
    "import pandas as pd\n",
    "from pandas import DataFrame # import a class\n",
    "from pandas.plotting import boxplot # import from a module"
   ]
  },
  {
   "cell_type": "code",
   "execution_count": 3,
   "metadata": {},
   "outputs": [],
   "source": [
    "# lets try using the python package json\n",
    "import json"
   ]
  },
  {
   "cell_type": "code",
   "execution_count": 4,
   "metadata": {},
   "outputs": [],
   "source": [
    "d = {'Andrew': 9, 'Steve': 15, 'Suzy': 20, 'JJ': 31}\n",
    "\n",
    "filename = 'your_filename_here.json'\n",
    "\n",
    "with open(filename, 'w') as f:\n",
    "    json.dump(d, f)"
   ]
  },
  {
   "cell_type": "code",
   "execution_count": null,
   "metadata": {},
   "outputs": [],
   "source": [
    "with open(filename, 'r') as f:\n",
    "    d = json.load(f)\n",
    "\n",
    "print(d)"
   ]
  },
  {
   "cell_type": "code",
   "execution_count": 6,
   "metadata": {},
   "outputs": [],
   "source": [
    "# read then write\n",
    "\n",
    "with open(filename, 'r') as f:\n",
    "    d = json.load(f)\n",
    "\n",
    "d['Keri'] = 25\n",
    "\n",
    "with open(filename, 'w') as f:\n",
    "    json.dump(d, f)"
   ]
  },
  {
   "cell_type": "code",
   "execution_count": null,
   "metadata": {},
   "outputs": [],
   "source": [
    "with open(filename, 'r') as f:\n",
    "    d = json.load(f)\n",
    "\n",
    "print(d)"
   ]
  }
 ],
 "metadata": {
  "kernelspec": {
   "display_name": "Python 3",
   "language": "python",
   "name": "python3"
  },
  "language_info": {
   "codemirror_mode": {
    "name": "ipython",
    "version": 3
   },
   "file_extension": ".py",
   "mimetype": "text/x-python",
   "name": "python",
   "nbconvert_exporter": "python",
   "pygments_lexer": "ipython3",
   "version": "3.10.6"
  }
 },
 "nbformat": 4,
 "nbformat_minor": 2
}
