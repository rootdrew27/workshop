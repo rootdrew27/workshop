{
 "cells": [
  {
   "cell_type": "markdown",
   "metadata": {},
   "source": [
    "# Introduction to Machine Learning (Part 1)\n"
   ]
  },
  {
   "cell_type": "markdown",
   "metadata": {},
   "source": [
    "## Installs, Imports, and Constants"
   ]
  },
  {
   "cell_type": "code",
   "execution_count": null,
   "metadata": {},
   "outputs": [],
   "source": [
    "%pip install numpy scipy pandas scikit-learn matplotlib seaborn[stats]"
   ]
  },
  {
   "cell_type": "code",
   "execution_count": 1,
   "metadata": {},
   "outputs": [],
   "source": [
    "# Import packages\n",
    "\n",
    "import numpy as np\n",
    "import scipy\n",
    "import pandas as pd\n",
    "import matplotlib.pyplot as plt\n",
    "import pandas as pd\n",
    "import seaborn as sns\n",
    "import numpy as np"
   ]
  },
  {
   "cell_type": "code",
   "execution_count": 2,
   "metadata": {},
   "outputs": [],
   "source": [
    "RANDOM_SEED = 42"
   ]
  },
  {
   "cell_type": "markdown",
   "metadata": {},
   "source": [
    "## Statistical Background\n"
   ]
  },
  {
   "cell_type": "markdown",
   "metadata": {},
   "source": [
    "### Types of Data\n",
    "- Numerical \n",
    "- Categorical"
   ]
  },
  {
   "cell_type": "code",
   "execution_count": 3,
   "metadata": {},
   "outputs": [],
   "source": [
    "# numerical\n",
    "a = [1, 2, 3, 4, 5] # discrete\n",
    "b = [0.001, 0.002, 0.003, 0.004, 0.005] # continuous\n",
    "\n",
    "# categorical\n",
    "c = ['a', 'b', 'c', 'd', 'e'] # ordinal\n",
    "d = ['cat', 'dog', 'bird', 'fish', 'lizard'] # nominal"
   ]
  },
  {
   "cell_type": "markdown",
   "metadata": {},
   "source": [
    "### Types of Variables \n",
    "\n",
    "- **Independent Variables** also called input variables, explanatory variables, predictors, features, or attributes.\n",
    "- **Dependent Variables** also called outcome variable, response variable, output variable, or class."
   ]
  },
  {
   "cell_type": "code",
   "execution_count": 4,
   "metadata": {},
   "outputs": [
    {
     "data": {
      "image/png": "[encoded data removed]",
      "text/plain": [
       "<Figure size 640x480 with 1 Axes>"
      ]
     },
     "metadata": {},
     "output_type": "display_data"
    }
   ],
   "source": [
    "x = [1, 2, 3, 4, 5]\n",
    "y = [10, 5, 3, 2, 1]\n",
    "\n",
    "# create figure\n",
    "plt.scatter(\n",
    "    x,\n",
    "    y,\n",
    "    marker='x'\n",
    ")\n",
    "\n",
    "plt.xlabel('Feature')\n",
    "plt.ylabel('Prediction')\n",
    "plt.title('Scatter Plot of X vs Y');"
   ]
  },
  {
   "cell_type": "markdown",
   "metadata": {},
   "source": [
    "### Sampling\n",
    "**Sample Space**: The set of all possible outcomes of an random trial."
   ]
  },
  {
   "cell_type": "code",
   "execution_count": 5,
   "metadata": {},
   "outputs": [],
   "source": [
    "# create a random number generator\n",
    "rng = np.random.default_rng(seed=RANDOM_SEED)"
   ]
  },
  {
   "cell_type": "code",
   "execution_count": 6,
   "metadata": {},
   "outputs": [
    {
     "name": "stdout",
     "output_type": "stream",
     "text": [
      "['heads']\n",
      "[5 4]\n"
     ]
    }
   ],
   "source": [
    "# consider a coin flip\n",
    "result_c = rng.choice(['heads', 'tails'], size=1) # what is the sample space?\n",
    "\n",
    "# consider a die roll\n",
    "result_d = rng.choice([1, 2, 3, 4, 5, 6], size=2) # what is the sample space?\n",
    "\n",
    "print(result_c)\n",
    "print(result_d)\n"
   ]
  },
  {
   "cell_type": "markdown",
   "metadata": {},
   "source": [
    "### Probability Distributions (Distributions)\n",
    "\n",
    "\"A distribution is a function that gives the probabilities of occurrence of possible outcomes for an experiment.\"\n",
    "\n",
    "**Examples**:\n",
    "- Uniform Distribution\n",
    "- Normal Distribution\n",
    "- Binomial Distribution\n",
    "- etc.\n",
    "\n"
   ]
  },
  {
   "cell_type": "code",
   "execution_count": 7,
   "metadata": {},
   "outputs": [
    {
     "data": {
      "image/png": "[encoded data removed]",
      "text/plain": [
       "<Figure size 640x480 with 1 Axes>"
      ]
     },
     "metadata": {},
     "output_type": "display_data"
    }
   ],
   "source": [
    "# consider a coin flip again\n",
    "\n",
    "result_c = rng.choice(['heads', 'tails'], size=100) \n",
    "\n",
    "head_count = np.count_nonzero(result_c == 'heads')\n",
    "tail_count = np.count_nonzero(result_c == 'tails')\n",
    "\n",
    "plt.bar(x=['heads', 'tails'], height=[head_count, tail_count], width=0.5)\n",
    "\n",
    "plt.show()\n",
    "# what type of distribution are we sampling from?"
   ]
  },
  {
   "cell_type": "code",
   "execution_count": null,
   "metadata": {},
   "outputs": [],
   "source": [
    "from scipy.stats import uniform, norm"
   ]
  },
  {
   "cell_type": "code",
   "execution_count": null,
   "metadata": {},
   "outputs": [
    {
     "data": {
      "text/plain": [
       "array([1., 1., 1., 1., 1., 1., 1., 1., 1., 1., 1.])"
      ]
     },
     "metadata": {},
     "output_type": "display_data"
    }
   ],
   "source": [
    "uniform.pdf(np.arange(0, 1.1, 0.1))"
   ]
  },
  {
   "cell_type": "code",
   "execution_count": null,
   "metadata": {},
   "outputs": [
    {
     "data": {
      "text/plain": [
       "array([0.24197072, 0.26608525, 0.28969155, 0.31225393, 0.3332246 ,\n",
       "       0.35206533, 0.36827014, 0.38138782, 0.39104269, 0.39695255,\n",
       "       0.39894228, 0.39695255, 0.39104269, 0.38138782, 0.36827014,\n",
       "       0.35206533, 0.3332246 , 0.31225393, 0.28969155, 0.26608525,\n",
       "       0.24197072])"
      ]
     },
     "metadata": {},
     "output_type": "display_data"
    }
   ],
   "source": [
    "norm.pdf(np.arange(-1,1.1, 0.1))"
   ]
  },
  {
   "cell_type": "markdown",
   "metadata": {},
   "source": [
    "### Distance \n",
    "\n",
    "- **L1 Distance** (i.e. Manhattan Distance)\n",
    "- **L2 Distance** (i.e. Euclidean Distance)"
   ]
  },
  {
   "cell_type": "markdown",
   "metadata": {},
   "source": [
    "For any points $p, q \\in R^2$:\n",
    "\n",
    "$L1(p, q)=|p_1 - q_1| + |p_2 - q_2|$"
   ]
  },
  {
   "cell_type": "code",
   "execution_count": null,
   "metadata": {},
   "outputs": [],
   "source": [
    "x1, x2 = 2, 10\n",
    "y1, y2 = 3, -1\n",
    "\n",
    "# L1 Distance\n",
    "\n",
    "# 1 dim\n",
    "dist1 = np.abs(x1-x2)\n",
    "\n",
    "# 2 dim\n",
    "dist2 = np.abs(x1 - x2) + np.abs(y1 - y2)\n",
    "\n",
    "print(f'L1 Distance in one dimension: {dist1}')\n",
    "print(f'L1 Distance in two dimensions: {dist2}')"
   ]
  },
  {
   "cell_type": "markdown",
   "metadata": {},
   "source": [
    "For any points  $p, q \\in R^2$\n",
    "\n",
    "$L2(p, q)=\\sqrt{(p_1 - q_1)^2 + (p_2 - q_2)^2}$"
   ]
  },
  {
   "cell_type": "code",
   "execution_count": null,
   "metadata": {},
   "outputs": [],
   "source": [
    "x1, x2 = 2, 10\n",
    "y1, y2 = 3, -1\n",
    "\n",
    "# L2 Distance\n",
    "\n",
    "# 1 dim\n",
    "dist1 = np.sqrt(np.pow(x1 - x2, 2))\n",
    "\n",
    "# 2 dim\n",
    "dist2 = np.sqrt(np.pow(x1 - x2, 2) + np.pow(y1 - y2, 2))\n",
    "\n",
    "print(f'L2 Distance in one dimension: {dist1}')\n",
    "print(f'L2 Distance in two dimensions: {dist2}')\n"
   ]
  },
  {
   "cell_type": "markdown",
   "metadata": {},
   "source": [
    "### Scaling (Normalization)\n",
    "\n",
    "- These terms are often interchangeable but they have distinct purposes in Sci-kit Learn"
   ]
  },
  {
   "cell_type": "code",
   "execution_count": null,
   "metadata": {},
   "outputs": [],
   "source": [
    "x = np.array(\n",
    "    [[5, 0.2],\n",
    "     [3, 0.4],\n",
    "     [2, 0.1],\n",
    "     [4, 0.6]]\n",
    ")\n",
    "x"
   ]
  },
  {
   "cell_type": "code",
   "execution_count": null,
   "metadata": {},
   "outputs": [],
   "source": [
    "x.max(axis=0)"
   ]
  },
  {
   "cell_type": "code",
   "execution_count": null,
   "metadata": {},
   "outputs": [],
   "source": [
    "X_scaled = (x - x.min(axis=0)) / (x.max(axis=0) - x.min(axis=0))\n",
    "print(X_scaled)"
   ]
  },
  {
   "cell_type": "code",
   "execution_count": 454,
   "metadata": {},
   "outputs": [],
   "source": [
    "from sklearn.preprocessing import MinMaxScaler"
   ]
  },
  {
   "cell_type": "code",
   "execution_count": null,
   "metadata": {},
   "outputs": [],
   "source": [
    "# scale values inbetween 0 and 1\n",
    "\n",
    "scaler = MinMaxScaler()\n",
    "scaler.fit(x)\n",
    "print(scaler.transform(x))"
   ]
  },
  {
   "cell_type": "code",
   "execution_count": 85,
   "metadata": {},
   "outputs": [],
   "source": [
    "from sklearn.preprocessing import StandardScaler"
   ]
  },
  {
   "cell_type": "code",
   "execution_count": null,
   "metadata": {},
   "outputs": [],
   "source": [
    "u = x.mean()\n",
    "s = x.std()\n",
    "\n",
    "print(f'Mean of x: {u}')\n",
    "print(f'Std. Deviation of x: {s}')"
   ]
  },
  {
   "cell_type": "code",
   "execution_count": null,
   "metadata": {},
   "outputs": [],
   "source": [
    "# moves the data distribution. \n",
    "x_scaled = (x - u)/s\n",
    "\n",
    "print(x_scaled.mean()) # approximately 0\n",
    "print(x_scaled.std())"
   ]
  },
  {
   "cell_type": "code",
   "execution_count": 459,
   "metadata": {},
   "outputs": [],
   "source": [
    "scaler = StandardScaler()\n",
    "scaler.fit(x)\n",
    "x_scaled = scaler.transform(x)"
   ]
  },
  {
   "cell_type": "code",
   "execution_count": null,
   "metadata": {},
   "outputs": [],
   "source": [
    "print(x_scaled.mean())\n",
    "print(x_scaled.std())"
   ]
  },
  {
   "cell_type": "code",
   "execution_count": null,
   "metadata": {},
   "outputs": [],
   "source": []
  },
  {
   "cell_type": "markdown",
   "metadata": {},
   "source": [
    "## Linear/Logistic Regression\n"
   ]
  },
  {
   "cell_type": "code",
   "execution_count": 19,
   "metadata": {},
   "outputs": [],
   "source": [
    "from sklearn.linear_model import LinearRegression\n",
    "from sklearn.metrics import mean_squared_error, r2_score"
   ]
  },
  {
   "cell_type": "markdown",
   "metadata": {},
   "source": [
    "### Linear Regression"
   ]
  },
  {
   "cell_type": "code",
   "execution_count": null,
   "metadata": {},
   "outputs": [],
   "source": [
    "# TODO Introduce parameters (of models).\n",
    "\n",
    "x = np.array([[1], [2], [3], [4], [5]])\n",
    "y = np.array([[10], [7], [5], [3], [1]])\n",
    "\n",
    "model = LinearRegression()\n",
    "model.fit(x, y)\n",
    "\n",
    "preds = model.predict(x)\n",
    "\n",
    "plt.scatter(x, y, marker='o', color='black')\n",
    "plt.plot(x, preds, color='blue', linewidth=3);\n",
    "\n",
    "# The parameters of the model\n",
    "print(f\"Slope and y-intercept: W={model.coef_.item()} b={model.intercept_.item()}\")\n",
    "# The mean squared error\n",
    "print(\"Mean squared error: %.2f\" % mean_squared_error(y, preds))\n",
    "# Proportion of Y that is predictable with X: 1 is perfect prediction\n",
    "print(\"R squared score: %.2f\" % r2_score(y, preds))\n",
    "\n",
    "plt.show()"
   ]
  },
  {
   "cell_type": "code",
   "execution_count": null,
   "metadata": {},
   "outputs": [],
   "source": [
    "# Linear Regression is not an iterative process (i.e. there is no learning occurring)\n",
    "\n",
    "# Lets calculate the coeffecient and the intercept ourselves\n",
    "n = len(x)\n",
    "b = (sum(y)*sum(np.pow(x, 2)) - sum(x)*sum(x*y)) / (n*sum(np.pow(x,2)) - np.pow(sum(x), 2))\n",
    "w = (n*sum(x*y) - sum(x)*sum(y)) / (n*sum(np.pow(x, 2)) - np.pow(sum(x), 2))\n",
    "\n",
    "print(f'Intercept b = {b}')\n",
    "print(f'Coeffecient W = {w}')"
   ]
  },
  {
   "cell_type": "code",
   "execution_count": 25,
   "metadata": {},
   "outputs": [],
   "source": [
    "from sklearn.datasets import load_diabetes"
   ]
  },
  {
   "cell_type": "code",
   "execution_count": 496,
   "metadata": {},
   "outputs": [],
   "source": [
    "# TODO Introduce splitting dataset"
   ]
  },
  {
   "cell_type": "code",
   "execution_count": null,
   "metadata": {},
   "outputs": [],
   "source": [
    "df = load_diabetes(as_frame=True).frame\n",
    "df.head()"
   ]
  },
  {
   "cell_type": "code",
   "execution_count": 466,
   "metadata": {},
   "outputs": [],
   "source": [
    "# Create a Series with the targets\n",
    "target = df[\"target\"]\n",
    "# Create a new dataframe without the \"target\" column\n",
    "data = df.drop(columns=[\"target\"])\n"
   ]
  },
  {
   "cell_type": "code",
   "execution_count": null,
   "metadata": {},
   "outputs": [],
   "source": [
    "model = LinearRegression()\n",
    "\n",
    "model.fit(data, target)\n",
    "\n",
    "preds = model.predict(data)\n",
    "\n",
    "print(\"Coefficients: \\n\", model.coef_)\n",
    "# The mean squared error\n",
    "print(\"Mean squared error: %.2f\" % mean_squared_error(target, preds))\n",
    "# The coefficient of determination: 1 is perfect prediction\n",
    "print(\"Coefficient of determination: %.2f\" % r2_score(target, preds))"
   ]
  },
  {
   "cell_type": "code",
   "execution_count": null,
   "metadata": {},
   "outputs": [],
   "source": [
    "_ = sns.pairplot(df, kind=\"reg\", y_vars=\"target\", x_vars=data.columns, diag_kind=\"kde\")"
   ]
  },
  {
   "cell_type": "markdown",
   "metadata": {},
   "source": [
    "### Logisitc Regression\n",
    "\n",
    "- Despite its name Logistic Regression is commonly used for classification in ML.\n",
    "- The output of a Logisitc Regression model is between 0 and 1"
   ]
  },
  {
   "cell_type": "code",
   "execution_count": 469,
   "metadata": {},
   "outputs": [],
   "source": [
    "from sklearn.linear_model import LogisticRegression\n",
    "from sklearn.datasets import load_breast_cancer"
   ]
  },
  {
   "cell_type": "code",
   "execution_count": 470,
   "metadata": {},
   "outputs": [],
   "source": [
    "df = load_breast_cancer(as_frame=True).frame # lets explore this dataset \n",
    "\n",
    "# Dataset Link: https://scikit-learn.org/1.5/modules/generated/sklearn.datasets.load_iris.html#load-iris"
   ]
  },
  {
   "cell_type": "code",
   "execution_count": null,
   "metadata": {},
   "outputs": [],
   "source": [
    "df"
   ]
  },
  {
   "cell_type": "code",
   "execution_count": 472,
   "metadata": {},
   "outputs": [],
   "source": [
    "target = df[\"target\"]\n",
    "\n",
    "data = df.iloc[:, 2:3]"
   ]
  },
  {
   "cell_type": "code",
   "execution_count": null,
   "metadata": {},
   "outputs": [],
   "source": [
    "target"
   ]
  },
  {
   "cell_type": "code",
   "execution_count": null,
   "metadata": {},
   "outputs": [],
   "source": [
    "model = LogisticRegression(random_state=RANDOM_SEED)\n",
    "model.fit(data, target)"
   ]
  },
  {
   "cell_type": "code",
   "execution_count": null,
   "metadata": {},
   "outputs": [],
   "source": [
    "sns.regplot(x=data, y=target, data=df, logistic=True, ci=None); # How can we intrepret this model/graph?"
   ]
  },
  {
   "cell_type": "code",
   "execution_count": null,
   "metadata": {},
   "outputs": [],
   "source": [
    "# notably, there is no closed-form solution for Logistic Regression (This is a fundamental difference from Linear Regression)"
   ]
  },
  {
   "cell_type": "markdown",
   "metadata": {},
   "source": [
    "#### Mini Challenge\n",
    "\n",
    "1. Create Logistic Regression models with 3 different features.\n",
    "2. Graph the results of each.\n",
    "3. Would any of these models be good predictors of whether or not a person has cancer?\n",
    " "
   ]
  },
  {
   "cell_type": "code",
   "execution_count": null,
   "metadata": {},
   "outputs": [],
   "source": []
  },
  {
   "cell_type": "markdown",
   "metadata": {},
   "source": [
    "## What is Machine Learning?\n",
    "\n",
    "Application of artificial intelligence ( AI ) algorithms that are able to \n",
    "learn from data and imitate the way human beings make decisions without explicit instructions.\n",
    "\n",
    "**Machine Learning Uses:**\n",
    "* Prediction\n",
    "* Image Recognition\n",
    "* Speech recognition\n",
    "* Medical Diagnoses"
   ]
  },
  {
   "cell_type": "markdown",
   "metadata": {},
   "source": [
    "### Types of Machine Learning\n",
    "\n",
    "**Supervised Learning:**\n",
    "* System is trained on labeled Data\n",
    "* EX: classification,regression\n",
    "\n",
    "**Unsupervised Learning:**\n",
    "* System is trained on unlabeled data\n",
    "* EX: Clustering, Association"
   ]
  },
  {
   "cell_type": "markdown",
   "metadata": {},
   "source": [
    "### Four Steps to Creating an ML ( Machine Learning ) Model\n",
    "\n",
    "1. Select and Prepare a Dataset\n",
    "2. Choose an algorithm to run on the dataset\n",
    "3. Train the algorithm\n",
    "4. Using & Improving the model"
   ]
  },
  {
   "cell_type": "markdown",
   "metadata": {},
   "source": [
    "### First Model : Decision Tree"
   ]
  },
  {
   "cell_type": "code",
   "execution_count": 20,
   "metadata": {},
   "outputs": [],
   "source": [
    "from sklearn.datasets import load_breast_cancer"
   ]
  },
  {
   "cell_type": "code",
   "execution_count": 53,
   "metadata": {},
   "outputs": [],
   "source": [
    "# Load bread cancer dataset\n",
    "cancer = load_breast_cancer()\n",
    "X = pd.DataFrame(cancer.data, columns=cancer.feature_names)\n",
    "y = cancer.target"
   ]
  },
  {
   "cell_type": "code",
   "execution_count": null,
   "metadata": {},
   "outputs": [],
   "source": [
    "# Lets take a look at our features\n",
    "\n",
    "print(X)\n",
    "\n",
    "# Features, aka the columns of our data, represent data variables that help our model learn patterns"
   ]
  },
  {
   "cell_type": "code",
   "execution_count": null,
   "metadata": {},
   "outputs": [],
   "source": [
    "# Lets look at our target\n",
    "\n",
    "print(y)\n",
    "\n",
    "# Since this is a binary classification problem, we are determining whether or not cancer is benign or malignant\n",
    "# 0 = malignant ( cancerous ), 1 = benign"
   ]
  },
  {
   "cell_type": "code",
   "execution_count": null,
   "metadata": {},
   "outputs": [],
   "source": [
    "# Lets look at our class distribiion\n",
    "\n",
    "print(f\"Class distribution: \\n{pd.Series(y).value_counts()}\")"
   ]
  },
  {
   "cell_type": "code",
   "execution_count": 14,
   "metadata": {},
   "outputs": [],
   "source": [
    "from sklearn.model_selection import train_test_split\n",
    "from sklearn.tree import DecisionTreeClassifier, plot_tree"
   ]
  },
  {
   "cell_type": "code",
   "execution_count": null,
   "metadata": {},
   "outputs": [],
   "source": [
    "# Split the data into training and testing\n",
    "\n",
    "X_train, X_test, y_train, y_test = train_test_split(X, y, test_size=0.3, random_state=42)"
   ]
  },
  {
   "cell_type": "code",
   "execution_count": null,
   "metadata": {},
   "outputs": [],
   "source": [
    "# Train a simple decision tree for visualization\n",
    "dt = DecisionTreeClassifier(max_depth=3, random_state=42)\n",
    "\n",
    "dt.fit(X_train, y_train)"
   ]
  },
  {
   "cell_type": "code",
   "execution_count": null,
   "metadata": {},
   "outputs": [],
   "source": [
    "# Visualize Decision Tree\n",
    "plt.figure(figsize=(20,10))\n",
    "plot_tree(dt, feature_names=cancer.feature_names, class_names=cancer.target_names, filled=True)\n",
    "plt.show()"
   ]
  },
  {
   "cell_type": "code",
   "execution_count": null,
   "metadata": {},
   "outputs": [],
   "source": [
    "# try it with a bigger max_depth\n",
    "\n",
    "dt = DecisionTreeClassifier(max_depth=5, random_state=42)\n",
    "\n",
    "# Fit on the training Data\n",
    "dt.fit(X_train, y_train)\n",
    "\n",
    "# Predict on the testing data\n",
    "y_pred = dt.predict(X_test)\n",
    "print(y_pred)"
   ]
  },
  {
   "cell_type": "markdown",
   "metadata": {},
   "source": [
    "## METRICS\n",
    "\n",
    "* When working with classification tasks, we often use metrics based on the proportion of true and false predicitions\n",
    "\n",
    "Example: Breast Cancer Prediction\n",
    "\n",
    "**True Positive:** Amount of correctly identified malignant tumors\n",
    "\n",
    "**False Positive:** Amount of incorrectly identified malignant tumors\n",
    "\n",
    "**True Negative:** Amount of correctly identified benign tumors\n",
    "\n",
    "**False Negative:** Amount of incorrectly identified benign tumors"
   ]
  },
  {
   "cell_type": "code",
   "execution_count": 67,
   "metadata": {},
   "outputs": [],
   "source": [
    "from sklearn.metrics import accuracy_score"
   ]
  },
  {
   "cell_type": "code",
   "execution_count": null,
   "metadata": {},
   "outputs": [],
   "source": [
    "# Evaluate Prediction Quality\n",
    "# sklearn accuracy_score() returns the accuracy score of the given predictions\n",
    "\n",
    "accuracy_score(y_test, y_pred)"
   ]
  },
  {
   "cell_type": "markdown",
   "metadata": {},
   "source": [
    "### **Accuracy Score:**\n",
    "\n",
    "Proportion of all scores that are correct\n",
    "\n",
    "ACC = ( TN + TP ) / ALL SCORES\n"
   ]
  },
  {
   "cell_type": "code",
   "execution_count": null,
   "metadata": {},
   "outputs": [],
   "source": [
    "# You could also use...\n",
    "# DecisionTreeClassifier.score() returns the accuracy score of the given predictions\n",
    "\n",
    "train_score = dt.score(X_train, y_train)\n",
    "test_score = dt.score(X_test, y_test)\n",
    "\n",
    "print(train_score)\n",
    "print(test_score)"
   ]
  },
  {
   "cell_type": "code",
   "execution_count": null,
   "metadata": {},
   "outputs": [],
   "source": [
    "# Evaluating with Classification Report\n",
    "\n",
    "clf_report = classification_report(y_test, y_pred)\n",
    "\n",
    "print(clf_report)"
   ]
  },
  {
   "cell_type": "markdown",
   "metadata": {},
   "source": [
    "### **Precision:**\n",
    "- Measures the quality / accuracy of the predicitions, AKA, how often the model predicts correctly.\n",
    "\n",
    "( When we predict cancer, how often are we correct ? )\n",
    "\n",
    "TP / ( TP + FP )\n",
    "\n",
    "### **Recall:**\n",
    "- For all of the positive samples, this is the fraction that we correctly classified.\n",
    "\n",
    "( Of all the cancer cases, how many did we catch ? )\n",
    "\n",
    "TP / ( TP + FN )\n",
    "\n",
    "### When to use which ?\n",
    "\n",
    "Precision Priority\n",
    "* Email spam filtering (better to let spam through than block real emails)\n",
    "\n",
    "Recall Priority\n",
    "* Cancer screening (better to have false alarms than miss cancer)\n",
    "* Fraud detection (better to investigate false leads than miss fraud)\n",
    "\n",
    "<br/>\n",
    "\n",
    "**F1-Score**\n",
    "* balanced measure of performance, computes the average of precision and recall"
   ]
  },
  {
   "cell_type": "markdown",
   "metadata": {},
   "source": [
    "### Confusion Matrix"
   ]
  },
  {
   "cell_type": "code",
   "execution_count": 74,
   "metadata": {},
   "outputs": [],
   "source": [
    "from sklearn.metrics import confusion_matrix, ConfusionMatrixDisplay"
   ]
  },
  {
   "cell_type": "code",
   "execution_count": null,
   "metadata": {},
   "outputs": [],
   "source": [
    "# Evaluating with Confusion Matrix\n",
    "\n",
    "c_matrix = confusion_matrix(y_test, y_pred)\n",
    "\n",
    "cm_display = ConfusionMatrixDisplay(confusion_matrix = c_matrix, display_labels = ['malignant', 'benign'])\n",
    "\n",
    "cm_display.plot()\n",
    "plt.show()"
   ]
  },
  {
   "cell_type": "markdown",
   "metadata": {},
   "source": [
    "## Second Model: RandomForest"
   ]
  },
  {
   "cell_type": "markdown",
   "metadata": {},
   "source": [
    "**Random Forest**:\n",
    "* an algorithm that combines the output of multiple trees to reach a result.\n",
    "\n",
    "For classification tasks, the output is the class selected by the most trees"
   ]
  },
  {
   "cell_type": "code",
   "execution_count": 147,
   "metadata": {},
   "outputs": [],
   "source": [
    "from sklearn.ensemble import RandomForestClassifier"
   ]
  },
  {
   "cell_type": "code",
   "execution_count": 81,
   "metadata": {},
   "outputs": [],
   "source": [
    "# Initialize and fit your Random Forest Classifier on the same data\n",
    "\n",
    "rf = RandomForestClassifier(random_state=42, n_estimators=100)\n",
    "rf.fit(X_train, y_train)\n",
    "rf_pred = rf.predict(X_test)"
   ]
  },
  {
   "cell_type": "code",
   "execution_count": null,
   "metadata": {},
   "outputs": [],
   "source": [
    "# Evaluate, did the RF model perform better than the DT?\n",
    "\n",
    "accuracy_score(y_test, rf_pred)"
   ]
  },
  {
   "cell_type": "markdown",
   "metadata": {},
   "source": [
    "### Underfitting vs Overfitting\n",
    "\n",
    "When evaluating the quality of a ML model, it is important to determine the quality of the fit.\n",
    "\n",
    "**Overfitting**:\n",
    "* The model is too complex and fits the training data too closely, thus is unable to make quality predicitons on new data\n",
    "* High Training Accuracy with low testing accuracy\n",
    "\n",
    "\n",
    "**Underfitting**\n",
    "* The model is too simple, and cannot find the underlying patterns of the data\n",
    "* Poor training and testing accuracies\n",
    "\n",
    "In a good balanced model, the algorithm will capture important patterns without memorizing the training data.\n"
   ]
  },
  {
   "cell_type": "code",
   "execution_count": null,
   "metadata": {},
   "outputs": [],
   "source": [
    "underfit_rf = RandomForestClassifier(\n",
    "    n_estimators=1,  # Very few trees\n",
    "    max_depth=1,     # Very shallow trees\n",
    "    random_state=42\n",
    ")\n",
    "\n",
    "underfit_rf.fit(X_train, y_train)\n",
    "rf_pred_train = underfit_rf.predict(X_train)\n",
    "rf_pred_test = underfit_rf.predict(X_test)\n",
    "\n",
    "train_score =  accuracy_score(y_train, rf_pred_train)\n",
    "test_score =  accuracy_score(y_test, rf_pred_test)\n",
    "\n",
    "print(f\"Train Accuracy: {train_score:.3f}\")\n",
    "print(f\"Test Accuracy: {test_score:.3f}\")\n",
    "print(f\"Gap: {train_score - test_score:.3f}\")"
   ]
  },
  {
   "cell_type": "code",
   "execution_count": null,
   "metadata": {},
   "outputs": [],
   "source": [
    "good_rf = RandomForestClassifier(\n",
    "    n_estimators=100,\n",
    "    max_depth=5,\n",
    "    min_samples_leaf=4,\n",
    "    random_state=42\n",
    ")\n",
    "\n",
    "good_rf.fit(X_train, y_train)\n",
    "rf_pred_train = good_rf.predict(X_train)\n",
    "rf_pred_test = good_rf.predict(X_test)\n",
    "\n",
    "train_score =  accuracy_score(y_train, rf_pred_train)\n",
    "test_score =  accuracy_score(y_test, rf_pred_test)\n",
    "\n",
    "print(f\"Train Accuracy: {train_score:.3f}\")\n",
    "print(f\"Test Accuracy: {test_score:.3f}\")\n",
    "print(f\"Gap: {train_score - test_score:.3f}\")"
   ]
  },
  {
   "cell_type": "markdown",
   "metadata": {},
   "source": [
    "### MINI CHALLENGE :)\n",
    "\n",
    "**Hyperparameter Tuning**:\n",
    "* This is a key step in using ML algorithms, where you find the best parameters to use when training a model\n",
    "\n",
    "Manipulate the parameters of the original RandomForestClassifier to achive a better accuracy score.\n",
    "There are many different parameters you can use to help increase RandomForestClassifier...\n",
    "\n",
    "- max_depth: limits how deep the tree can grow \n",
    "- min_samples_split: minimum samples required to split at a node\n",
    "- min_samples_leaf: each leaf must have this many samples\n",
    "- random_state: controls the randomness of a tree\n",
    "- etc.\n",
    "\n",
    "Link to [Hyperparameters](https://scikit-learn.org/stable/modules/generated/sklearn.ensemble.RandomForestClassifier.html#randomforestclassifier)"
   ]
  },
  {
   "cell_type": "code",
   "execution_count": null,
   "metadata": {},
   "outputs": [],
   "source": []
  },
  {
   "cell_type": "markdown",
   "metadata": {},
   "source": [
    "## Feature Importance\n",
    "\n",
    "Feature selection is an important step for improving your Machine learning model.\n",
    "By removing unneccesary features ( columns ), sometimes you can improve the performance and runtime of your model."
   ]
  },
  {
   "cell_type": "code",
   "execution_count": null,
   "metadata": {},
   "outputs": [],
   "source": [
    "# For this example, we will be using a wine quality dataset\n",
    "\n",
    "wine_url = \"https://archive.ics.uci.edu/ml/machine-learning-databases/wine-quality/winequality-red.csv\"\n",
    "wine = pd.read_csv(wine_url, sep=\";\")\n",
    "\n",
    "# Prepare data\n",
    "X = wine.drop('quality', axis=1)\n",
    "y = wine['quality']\n",
    "\n",
    "wine"
   ]
  },
  {
   "cell_type": "code",
   "execution_count": null,
   "metadata": {},
   "outputs": [],
   "source": [
    "# Split and scale data\n",
    "\n",
    "X_train, X_test, y_train, y_test = train_test_split(X, y, test_size=0.2, random_state=42)\n",
    "scaler = StandardScaler()\n",
    "X_train_scaled = scaler.fit_transform(X_train)\n",
    "X_test_scaled = scaler.transform(X_test)"
   ]
  },
  {
   "cell_type": "code",
   "execution_count": null,
   "metadata": {},
   "outputs": [],
   "source": [
    "# Train a random Forest Classifier\n",
    "\n",
    "rf_clf = RandomForestClassifier(\n",
    "    n_estimators=100,\n",
    "    max_depth=5,\n",
    "    min_samples_leaf=4,\n",
    "    random_state=42\n",
    ")\n",
    "rf_clf.fit(X_train_scaled, y_train)"
   ]
  },
  {
   "cell_type": "code",
   "execution_count": null,
   "metadata": {},
   "outputs": [],
   "source": [
    "# Lets calculate our prediction accuracy \n",
    "\n",
    "rf_pred_train = rf_clf.predict(X_train)\n",
    "rf_pred_test = rf_clf.predict(X_test)\n",
    "train_score =  accuracy_score(y_train, rf_pred_train)\n",
    "test_score =  accuracy_score(y_test, rf_pred_test)\n",
    "\n",
    "print(f\"Train Accuracy: {train_score:.3f}\")\n",
    "print(f\"Test Accuracy: {test_score:.3f}\")\n",
    "print(f\"Gap: {train_score - test_score:.3f}\")"
   ]
  },
  {
   "cell_type": "code",
   "execution_count": null,
   "metadata": {},
   "outputs": [],
   "source": [
    "# Some classifiers such as Random Forest, have built in tools to help you determine feature importance\n",
    "# lets determine the best features using our good_rf model\n",
    "\n",
    "rf_importance = pd.DataFrame({\n",
    "    'feature': X.columns,\n",
    "    'importance': rf_clf.feature_importances_\n",
    "}).sort_values('importance', ascending=False)\n",
    "\n",
    "rf_importance"
   ]
  },
  {
   "cell_type": "markdown",
   "metadata": {},
   "source": [
    "## Mini Challenge :)\n",
    "\n",
    "Using Feature importance, determine top 3 least important features.\n",
    "\n",
    "Then, see what removing them from the data does for your model."
   ]
  },
  {
   "cell_type": "code",
   "execution_count": null,
   "metadata": {},
   "outputs": [],
   "source": [
    "print(\"\\n Least Important Features (Random Forest):\")\n",
    "print(rf_importance.tail())"
   ]
  },
  {
   "cell_type": "markdown",
   "metadata": {},
   "source": [
    "## Regularization\n",
    "\n",
    "- Regularization methods are important in both all Statistical Models, and they are of particular interest for Machine Learning. \n",
    "- They help prevent our models from **overfitting** our training data."
   ]
  },
  {
   "cell_type": "code",
   "execution_count": 497,
   "metadata": {},
   "outputs": [],
   "source": [
    "# Lets revisit the Random Forest Method\n",
    "rf = RandomForestClassifier(\n",
    "    random_state=42,\n",
    "    n_estimators=100,\n",
    "    max_depth=None,\n",
    "    min_samples_leaf=1\n",
    ")\n",
    "\n",
    "# the max depth hyperparameter prevents each tree in our Forest from growing too large, thus preventing the model from defining more complex decision trees"
   ]
  },
  {
   "cell_type": "code",
   "execution_count": 11,
   "metadata": {},
   "outputs": [],
   "source": [
    "# Lasso Regression\n",
    "\n",
    "from sklearn.linear_model import Lasso"
   ]
  },
  {
   "cell_type": "markdown",
   "metadata": {},
   "source": [
    "- Unlike linear regression, this model is made through an iterative process.\n",
    "\n",
    "The objective is to **minimize** $\\dfrac{1}{N} ||y - X\\beta||^2 + \\alpha |\\beta|$\n",
    "\n",
    "- Note that $||\\hspace{.1cm}||$ is the L2 norm and $|\\hspace{.1cm}|$ is the L1 norm"
   ]
  },
  {
   "cell_type": "code",
   "execution_count": null,
   "metadata": {},
   "outputs": [],
   "source": [
    "lr = LinearRegression()\n",
    "lr.fit([[0, 0], [1, 1]], [0, 1])\n",
    "lr_pred = lr.predict([[0, 1]])\n",
    "\n",
    "print(f'Coefficients: {lr.coef_}')\n",
    "print(f'Prediction: {lr_pred}')"
   ]
  },
  {
   "cell_type": "code",
   "execution_count": null,
   "metadata": {},
   "outputs": [],
   "source": [
    "lasso = Lasso(alpha=0.05)\n",
    "lasso.fit([[0, 0], [1, 1]], [0, 1]) # note that the data exists in 3D\n",
    "lasso_pred = lasso.predict([[1,0]])\n",
    "\n",
    "print(f'Coefficients: {lasso.coef_}')\n",
    "print(f'Prediction: {lasso_pred}')"
   ]
  },
  {
   "cell_type": "code",
   "execution_count": 51,
   "metadata": {},
   "outputs": [],
   "source": [
    "x_train, x_test, y_train, y_test = train_test_split(df.iloc[:, :-1], df.loc[:, 'target'], test_size=0.2)"
   ]
  },
  {
   "cell_type": "code",
   "execution_count": null,
   "metadata": {},
   "outputs": [],
   "source": [
    "ls = Lasso(alpha=0.1)\n",
    "ls.fit(x_train, y_train)\n",
    "preds = ls.predict(x_test)\n",
    "\n",
    "r2_score(y_test, preds)"
   ]
  },
  {
   "cell_type": "code",
   "execution_count": null,
   "metadata": {},
   "outputs": [],
   "source": [
    "ls.coef_f"
   ]
  },
  {
   "cell_type": "code",
   "execution_count": null,
   "metadata": {},
   "outputs": [],
   "source": [
    "lr = LinearRegression()\n",
    "lr.fit(x_train, y_train)\n",
    "preds = lr.predict(x_test)\n",
    "\n",
    "r2_score(y_test, preds)"
   ]
  },
  {
   "cell_type": "code",
   "execution_count": null,
   "metadata": {},
   "outputs": [],
   "source": [
    "lgr = LogisticRegression(penalty='l2', max_iters=100)"
   ]
  },
  {
   "cell_type": "markdown",
   "metadata": {},
   "source": [
    "## Data Cleaning & Preprocessing"
   ]
  },
  {
   "cell_type": "code",
   "execution_count": null,
   "metadata": {},
   "outputs": [],
   "source": [
    "# dataset of titanic passengers\n",
    "\n",
    "url = \"https://raw.githubusercontent.com/datasciencedojo/datasets/master/titanic.csv\"\n",
    "titanic_df = pd.read_csv(url)\n",
    "\n",
    "titanic_df"
   ]
  },
  {
   "cell_type": "markdown",
   "metadata": {},
   "source": [
    "#### An important first step in Data preprocessing, is identifying the types of features you have\n",
    "\n",
    "##### **Numerical Features**\n",
    "* Represent measurable quantities\n",
    "* Can have numerical calculations performed on them, such as adding, subtracting, and averaging\n",
    "\n",
    "Two types:\n",
    "\n",
    "**Continuous**: any value within a range\n",
    "Ex ) Fare\n",
    "\n",
    "**Discrete**: distinct, seperate values\n",
    "Ex ) Age, or number of cars a person owns\n",
    "\n",
    "##### **Categorical Features**\n",
    "* Data represented by a limited, fixed number of categories or labels\n",
    "* Describe characteristics or qualities\n",
    "\n",
    "Two types:\n",
    "\n",
    "**Nominal**: Categories without any intrinsic order or ranking. Simple labels\n",
    "Ex ) Sex, or the color of an object\n",
    "\n",
    "**Ordinal**: Categories with meaningful order or ranking\n",
    "Ex ) Education Level ( high school, bachelors, masters, PHD )\n"
   ]
  },
  {
   "cell_type": "markdown",
   "metadata": {},
   "source": [
    "## Data Cleaning - Handling Missing Values\n",
    "\n",
    "Not every dataset will have every single datapoint\n",
    "Missing values can lead to a lot of issues affecting the accuracy of your program\n",
    "\n",
    "Two ways to deal with missing data values:\n",
    "* Drop all columns with missing values\n",
    "* Imputation"
   ]
  },
  {
   "cell_type": "code",
   "execution_count": null,
   "metadata": {},
   "outputs": [],
   "source": [
    "# First, identify the amount of missing values in your dataset\n",
    "# this can be done using the isnull() method, which flags null values\n",
    "\n",
    "print(titanic_df.isnull().sum())"
   ]
  },
  {
   "cell_type": "markdown",
   "metadata": {},
   "source": [
    "There are 3 different columns with missing values:\n",
    "* Age \n",
    "* Cabin\n",
    "* Embarked"
   ]
  },
  {
   "cell_type": "markdown",
   "metadata": {},
   "source": [
    "The most basic strategy for handling missing values is by dropping them"
   ]
  },
  {
   "cell_type": "code",
   "execution_count": null,
   "metadata": {},
   "outputs": [],
   "source": [
    "# The most simple way to drop missing values, would be dropping them all with dropna()\n",
    "\n",
    "titanic_df.dropna(inplace=False)\n",
    "\n",
    "# Using this strategy removes over 700 entries, which is not ideal"
   ]
  },
  {
   "cell_type": "code",
   "execution_count": null,
   "metadata": {},
   "outputs": [],
   "source": [
    "# Looking at our columns with missing values, Embarked only has two.\n",
    "# Thus, it would be acceptible to drop only those entries.\n",
    "# This can be done using the subset parameter\n",
    "\n",
    "titanic_df.dropna(subset=['Embarked'], inplace=True)\n",
    "\n",
    "print(titanic_df.isnull().sum())"
   ]
  },
  {
   "cell_type": "code",
   "execution_count": null,
   "metadata": {},
   "outputs": [],
   "source": [
    "# Another method for handling missing data, is to drop columns outright\n",
    "# Looking at our data, Cabin has 687 missing entries, which is over half our data\n",
    "# Thus, dropping it is reasonable\n",
    "\n",
    "titanic_df.drop(columns=['Cabin'], inplace=True)\n",
    "\n",
    "print(titanic_df.isnull().sum())"
   ]
  },
  {
   "cell_type": "markdown",
   "metadata": {},
   "source": [
    "Another strategy for handling missing values is **Imputation**.\n",
    "\n",
    "With imputation, for each missing value, fill empty spot with a specific number (usually an average).\n",
    "\n",
    "Steps for Imputation:\n",
    "* Sklearn has a method for imputation called SimpleImputer()\n",
    "* Intialize the imputer\n",
    "* Transform the data by assigning an estimated value to each empty spot\n"
   ]
  },
  {
   "cell_type": "code",
   "execution_count": null,
   "metadata": {},
   "outputs": [],
   "source": [
    "from sklearn.impute import SimpleImputer\n",
    "\n",
    "# We are going to be targeting the Age column with imputation\n",
    "# Age is a numerical value\n",
    "# We will be using the median age to fill in the missing values\n",
    "\n",
    "numeric_features = ['Age', 'Fare']\n",
    "# We are imputing both Age and Fare, since the simple imputer is expecting a dataFrame input, not a series\n",
    "\n",
    "imputer = SimpleImputer(strategy='median')\n",
    "\n",
    "titanic_df[numeric_features] = imputer.fit_transform(titanic_df[numeric_features])\n",
    "\n",
    "print(titanic_df.isnull().sum())"
   ]
  },
  {
   "cell_type": "markdown",
   "metadata": {},
   "source": [
    "Now that we have handled our missing values, we can move on to other preprocessing steps"
   ]
  },
  {
   "cell_type": "markdown",
   "metadata": {},
   "source": [
    "## Data Preprocessing - Handling Categorical Variables\n",
    "\n",
    "Not every variable is going to be numerical.\n",
    "\n",
    "To utilize categorical data, it is important to convert it into forms that the algorithm can use\n",
    "\n",
    "How do we handle this:\n",
    "* Dropping Categorical Variables\n",
    "* Label Encoding\n",
    "* One-Hot Encoding"
   ]
  },
  {
   "cell_type": "code",
   "execution_count": null,
   "metadata": {},
   "outputs": [],
   "source": [
    "# Name and Ticket are irrelevant categorical variables, so they are safe to drop\n",
    "\n",
    "columns_to_drop = ['Name', 'Ticket']\n",
    "\n",
    "titanic_df.drop(columns=columns_to_drop, inplace=True)\n",
    "\n",
    "print(titanic_df.isnull().sum())"
   ]
  },
  {
   "cell_type": "markdown",
   "metadata": {},
   "source": [
    "#### Categorical Encoders - Label Encoding\n",
    "\n",
    "“Labels” each value with a distinct value\n",
    "\n",
    "The LabelEncoder() looks at all unique values in the column\n",
    "\n",
    "and alphabetically assigns integers starting from 0\n",
    "\n",
    "Example: ‘Strongly Agree’ = 5 ‘Strongly Disagree’ = 1\n",
    "\n",
    "This approach does not work well if values do not have clear numerical ordering"
   ]
  },
  {
   "cell_type": "code",
   "execution_count": null,
   "metadata": {},
   "outputs": [],
   "source": [
    "from sklearn.preprocessing import LabelEncoder\n",
    "\n",
    "label_encoder = LabelEncoder()\n",
    "\n",
    "# We will be using categorical label feature Sex to demonstrate\n",
    "categorical_features = ['Sex']\n",
    "\n",
    "for feature in categorical_features:\n",
    "    titanic_df[feature + '_encoded'] = label_encoder.fit_transform(titanic_df[feature])\n",
    "    \n",
    "titanic_df[['Sex', 'Sex_encoded']]"
   ]
  },
  {
   "cell_type": "markdown",
   "metadata": {},
   "source": [
    "#### Categorical Encoders - One Hot Encoding\n",
    "\n",
    "Basic Idea: Creating new columns to show the presence/absence of the categorical variables from the original data\n",
    "\n",
    "Does not work well when datasets have large amounts of different categorical values"
   ]
  },
  {
   "cell_type": "code",
   "execution_count": null,
   "metadata": {},
   "outputs": [],
   "source": [
    "from sklearn.preprocessing import OneHotEncoder\n",
    "\n",
    "# We will be using categorical label feature Embarked to demonstrate\n",
    "categorical_features = ['Embarked']\n",
    "\n",
    "oh_encoder = OneHotEncoder(sparse_output=False)\n",
    "\n",
    "for feature in categorical_features:\n",
    "\n",
    "    # double brackets since OneHotEncoder expects a dataFrame, not a series\n",
    "    encoded_values = oh_encoder.fit_transform(titanic_df[[feature]])\n",
    "    \n",
    "    # Get the one-hot encoded feature names (e.g., 'Embarked_C', 'Embarked_Q', 'Embarked_S')\n",
    "    encoded_columns = oh_encoder.get_feature_names_out([feature])\n",
    "\n",
    "    # Create new columns in the DataFrame with the one-hot encoded values\n",
    "    encoded_df = pd.DataFrame(encoded_values, columns=encoded_columns)\n",
    "\n",
    "    # Concatenate the encoded columns to the original DataFrame\n",
    "    titanic_df = pd.concat([titanic_df, encoded_df], axis=1)\n",
    "\n",
    "\n",
    "print(titanic_df[['Embarked'] + list(encoded_df.columns)])\n"
   ]
  },
  {
   "cell_type": "code",
   "execution_count": null,
   "metadata": {},
   "outputs": [],
   "source": [
    "titanic_df"
   ]
  },
  {
   "cell_type": "code",
   "execution_count": null,
   "metadata": {},
   "outputs": [],
   "source": [
    "# Drop Un-needed columns\n",
    "\n",
    "titanic_df.drop(columns=['Sex', 'Embarked'], inplace=True)"
   ]
  },
  {
   "cell_type": "markdown",
   "metadata": {},
   "source": [
    "## Data Preprocessing - Normalization "
   ]
  },
  {
   "cell_type": "markdown",
   "metadata": {},
   "source": [
    "Data Scaling / Normalization is a highly reccommended preprocessing step prior to modeling.\n",
    "\n",
    "Many machine learning algorithms like Gradient descent methods, KNN algorithm, linear and logistic regression, etc. require data scaling to produce good results.\n",
    "\n",
    "Your method of Scaling often depends on your data or your algorithm."
   ]
  },
  {
   "cell_type": "code",
   "execution_count": null,
   "metadata": {},
   "outputs": [],
   "source": [
    "from sklearn.datasets import fetch_california_housing\n",
    "\n",
    "california = fetch_california_housing()\n",
    "california_df = pd.DataFrame(california.data, columns=california.feature_names)\n",
    "    \n",
    "california_df"
   ]
  },
  {
   "cell_type": "code",
   "execution_count": null,
   "metadata": {},
   "outputs": [],
   "source": [
    "# Features explanation\n",
    "features_to_analyze = {\n",
    "        'MedInc': 'Median Income - Right-skewed',\n",
    "        'AveRooms': 'Average Rooms - Contains outliers',\n",
    "        'Population': 'Population - Large scale differences',\n",
    "        'Latitude': 'Latitude - Bounded geographic',\n",
    "        'HouseAge': 'House Age - Bounded numeric'\n",
    "}\n",
    "\n",
    "analysis_df = california_df[features_to_analyze.keys()].copy()"
   ]
  },
  {
   "cell_type": "code",
   "execution_count": null,
   "metadata": {},
   "outputs": [],
   "source": [
    "# Visualize Distributions\n",
    "\n",
    "plt.figure(figsize=(15, 5))\n",
    "for i, (feature, description) in enumerate(features_to_analyze.items(), 1):\n",
    "    plt.subplot(1, 5, i)\n",
    "    sns.histplot(analysis_df[feature], kde=True)\n",
    "    plt.title(f'{feature}\\n{description.split(\"-\")[0]}')\n",
    "    plt.xticks(rotation=45)\n",
    "    plt.tight_layout()"
   ]
  },
  {
   "cell_type": "markdown",
   "metadata": {},
   "source": [
    "##### Standard Scaler\n",
    "\n",
    "* Standard Scaler is a normalization technique that transforms data to have mean=0 and standard dev=1\n",
    "* This process ensures that all features are on the same scale, preventing any single feature from dominating the learning process due to its larger magnitude.\n",
    "\n",
    "\n",
    "The transformation performed by StandardScaler can be expressed mathematically as:\n",
    "\n",
    "z=x−μ/σ​\n",
    "\n",
    "where x represents the original feature value, μ is the mean of the feature, σ is the standard deviation, and z is the standardized feature value."
   ]
  },
  {
   "cell_type": "code",
   "execution_count": null,
   "metadata": {},
   "outputs": [],
   "source": [
    "from sklearn.preprocessing import StandardScaler\n",
    "\n",
    "scaler = StandardScaler()\n",
    "scaled_data = scaler.fit_transform(analysis_df)\n",
    "stdScaled_df = pd.DataFrame(scaled_data,\n",
    "                         columns=analysis_df.columns)\n",
    "\n",
    "print(stdScaled_df.head())"
   ]
  },
  {
   "cell_type": "code",
   "execution_count": null,
   "metadata": {},
   "outputs": [],
   "source": [
    "# Visualize new Distributions\n",
    "\n",
    "plt.figure(figsize=(15, 5))\n",
    "for i, (feature, description) in enumerate(features_to_analyze.items(), 1):\n",
    "    plt.subplot(1, 5, i)\n",
    "    sns.histplot(stdScaled_df[feature], kde=True)\n",
    "    plt.title(f'{feature}\\n{description.split(\"-\")[0]}')\n",
    "    plt.xticks(rotation=45)\n",
    "    plt.tight_layout()"
   ]
  },
  {
   "cell_type": "markdown",
   "metadata": {},
   "source": [
    "You're probably thinking: Okay,,, this looks exactly the same!\n",
    "\n",
    "But take a closer look and see that the range on the X axes have changed.\n",
    "\n",
    "StandardScaler does not alter the shape of the distribution of each feature; it only shifts and scales it. "
   ]
  },
  {
   "cell_type": "markdown",
   "metadata": {},
   "source": [
    "#### MinMax Scaler\n",
    "\n",
    "* MinMaxScaler is a normalization technique that makes a distributions minimum=0 and maximum=1\n",
    "* MinMax Scaler shrinks the data within the given range, and transforms data by scaling features to a given range.\n",
    "\n",
    "Like StandardScaler, this does not change the shape of the original distribution."
   ]
  },
  {
   "cell_type": "code",
   "execution_count": null,
   "metadata": {},
   "outputs": [],
   "source": [
    "from sklearn.preprocessing import MinMaxScaler\n",
    "\n",
    "minmax_scaler = MinMaxScaler()\n",
    "minmax_data = minmax_scaler.fit_transform(analysis_df)\n",
    "minmax_df = pd.DataFrame(minmax_data,\n",
    "                         columns=analysis_df.columns)\n",
    "\n",
    "print(minmax_df.head())"
   ]
  },
  {
   "cell_type": "code",
   "execution_count": null,
   "metadata": {},
   "outputs": [],
   "source": [
    "# Visualize new Distributions\n",
    "\n",
    "plt.figure(figsize=(15, 5))\n",
    "for i, (feature, description) in enumerate(features_to_analyze.items(), 1):\n",
    "    plt.subplot(1, 5, i)\n",
    "    sns.histplot(minmax_df[feature], kde=True)\n",
    "    plt.title(f'{feature}\\n{description.split(\"-\")[0]}')\n",
    "    plt.xticks(rotation=45)\n",
    "    plt.tight_layout()"
   ]
  },
  {
   "cell_type": "markdown",
   "metadata": {},
   "source": [
    "As you can see in the graphs, while the shape appears the same, the range on the X axes has changed.\n",
    "* They are all now bounded between 0 and 1"
   ]
  },
  {
   "cell_type": "code",
   "execution_count": null,
   "metadata": {},
   "outputs": [],
   "source": [
    "# Lets compare the Distributions\n",
    "\n",
    "plt.subplot(3, 2, i+1)\n",
    "        \n",
    "        # Plot original and scaled distributions\n",
    "sns.kdeplot(data=analysis_df[feature], label='Original')\n",
    "sns.kdeplot(data=stdScaled_df[feature], label='StandardScaler')\n",
    "sns.kdeplot(data=minmax_df[feature], label='MinMaxScaler')\n",
    "        \n",
    "plt.title(f'{feature} Distribution Comparison')\n",
    "plt.legend()\n",
    "plt.tight_layout()\n",
    "plt.show()"
   ]
  },
  {
   "cell_type": "code",
   "execution_count": null,
   "metadata": {},
   "outputs": [],
   "source": [
    "# Lets see how this changed the distributions of our features numericallu\n",
    "\n",
    "for feature in features_to_analyze.keys():\n",
    "        print(f\"\\n{feature}:\")\n",
    "        print(\"Original Data:\")\n",
    "        print(f\"Range: [{analysis_df[feature].min():.2f}, {analysis_df[feature].max():.2f}]\")\n",
    "        print(f\"Mean: {analysis_df[feature].mean():.2f}\")\n",
    "        print(f\"Std: {analysis_df[feature].std():.2f}\")\n",
    "        \n",
    "        print(\"\\nAfter StandardScaler:\")\n",
    "        std_scaled = stdScaled_df[feature]\n",
    "        print(f\"Range: [{std_scaled.min():.2f}, {std_scaled.max():.2f}]\")\n",
    "        print(f\"Mean: {std_scaled.mean():.2f}\")  # Should be close to 0\n",
    "        print(f\"Std: {std_scaled.std():.2f}\")    # Should be close to 1\n",
    "        \n",
    "        print(\"\\nAfter MinMaxScaler:\")\n",
    "        minmax_scaled = minmax_df[feature]\n",
    "        print(f\"Range: [{minmax_scaled.min():.2f}, {minmax_scaled.max():.2f}]\")\n",
    "        print(f\"Mean: {minmax_scaled.mean():.2f}\")\n",
    "        print(f\"Std: {minmax_scaled.std():.2f}\")"
   ]
  },
  {
   "cell_type": "markdown",
   "metadata": {},
   "source": [
    "## Data Clustering - with KMEANS"
   ]
  },
  {
   "cell_type": "markdown",
   "metadata": {},
   "source": [
    "#### What is Cluster Analysis?\n",
    "\n",
    "Finding simularities between data according to the characteristics found in the data \n",
    "and grouping similar data objects into clusters\n",
    "\n",
    "Cluster analysis is a form of **unsupervised learning**\n",
    "\n",
    "**Cluster:** a collection of data objects\n",
    "* similar to one another in the same cluster\n",
    "* dissimilar to objects in other clusters\n",
    "\n",
    "Applications\n",
    "* Standalone tool\n",
    "* preprocessing step for other algorithms\n",
    "\n",
    "A good clustering method will produce high wuality clutsers with\n",
    "* high intra-class simularity ( less distance between objects in same cluster )\n",
    "* low inter-class simularity ( more distance between objects of different clusters )\n",
    "\n",
    "</br>"
   ]
  },
  {
   "cell_type": "markdown",
   "metadata": {},
   "source": [
    "#### K-Means clustering method\n",
    "\n",
    "Partitioning method: \n",
    "Find a global optimal clustering, aka\n",
    "Given a k, find a partition of k clusters that optimizes the chosen paritioning criterion\n",
    "\n",
    "Given k, the K-means algorithm is implemented in 4 steps:\n",
    "1. Partition objects into k nonempty subsets\n",
    "2. Compute seed points as the centroids of the clusters of the current partition\n",
    "3. Assign each object t the cluster with the nearest seed point\n",
    "4. repeat from step 2 untill no more new assignments\n",
    "\n",
    "Centroid: typically the mean of the points in the cluster\n",
    "\n",
    "Closeless is measured by Euclidean distance, or other equations\n",
    "d = √[ (x2 – x1)^2 + (y2 – y1)^2 ]\n",
    "( pythagoreas theorem )"
   ]
  },
  {
   "cell_type": "code",
   "execution_count": null,
   "metadata": {},
   "outputs": [],
   "source": [
    "# For this example, we will be using the iris dataser\n",
    "\n",
    "from sklearn.datasets import load_iris\n",
    "\n",
    "iris = load_iris()\n",
    "X = iris.data\n",
    "feature_names = iris.feature_names\n",
    "target_names = iris.target_names\n",
    "\n",
    "#Take a look at our data\n",
    "pd.DataFrame(data=X, columns=feature_names)"
   ]
  },
  {
   "cell_type": "code",
   "execution_count": null,
   "metadata": {},
   "outputs": [],
   "source": [
    "# Lets take a look at our classes\n",
    "\n",
    "print(target_names)"
   ]
  },
  {
   "cell_type": "code",
   "execution_count": null,
   "metadata": {},
   "outputs": [],
   "source": [
    "# For applying distance based algorithms like k-means,\n",
    "# scaling / normalization is reccomended\n",
    "\n",
    "scaler = StandardScaler()\n",
    "X_scaled = scaler.fit_transform(X)"
   ]
  },
  {
   "cell_type": "code",
   "execution_count": null,
   "metadata": {},
   "outputs": [],
   "source": [
    "# Lets take a look at the mapping of the original points and their respective classes\n",
    "\n",
    "plt.scatter(X[:, 0], X[:, 1], c=iris.target, cmap='viridis')\n",
    "plt.xlabel(feature_names[0])\n",
    "plt.ylabel(feature_names[1])\n",
    "plt.title('Original Iris Classes')"
   ]
  },
  {
   "cell_type": "code",
   "execution_count": null,
   "metadata": {},
   "outputs": [],
   "source": [
    "# Lets perform clustering with k-means\n",
    "# We will be using 3 clusters since there are 3 classes\n",
    "\n",
    "from sklearn.cluster import KMeans\n",
    "\n",
    "kmeans = KMeans(n_clusters=3, random_state=42)\n",
    "kmeans.fit(X_scaled)"
   ]
  },
  {
   "cell_type": "code",
   "execution_count": null,
   "metadata": {},
   "outputs": [],
   "source": [
    "# Now lets plot the points with the kmeans calculated clusters\n",
    "\n",
    "plt.scatter(X[:, 0], X[:, 1], c=kmeans.labels_, cmap='viridis')\n",
    "# Grab the kmeans calculated centroids \n",
    "centers = kmeans.cluster_centers_\n",
    "# Converts back to og scale for meaningful visualization in original feature space\n",
    "centers_original = scaler.inverse_transform(centers)\n",
    "plt.scatter(centers_original[:, 0], centers_original[:, 1], \n",
    "            c='red', marker='x', s=200, linewidth=3, label='Centroids')\n",
    "plt.xlabel(feature_names[0])\n",
    "plt.ylabel(feature_names[1])\n",
    "plt.title('K-means Clusters')\n",
    "plt.legend()"
   ]
  },
  {
   "cell_type": "markdown",
   "metadata": {},
   "source": [
    "### MINI CHALLENGE :)\n",
    "\n",
    "The kmeans algorithm can result in slightly different calculations each time\n",
    "depending on where the initial randomized centers are placed.\n",
    "\n",
    "Using random_state, this can be manipulated. \n",
    "\n",
    "For this challenge, I want you to adjust the number on the random_state in the kmeans call,\n",
    "and try to find a clustering that matches closer to the original iris classes scatterplot. "
   ]
  },
  {
   "cell_type": "markdown",
   "metadata": {},
   "source": [
    "## SVM"
   ]
  },
  {
   "cell_type": "code",
   "execution_count": 6,
   "metadata": {},
   "outputs": [],
   "source": [
    "from sklearn import metrics, svm\n",
    "from sklearn.datasets import load_digits\n",
    "import json"
   ]
  },
  {
   "cell_type": "code",
   "execution_count": 69,
   "metadata": {},
   "outputs": [],
   "source": [
    "digits = load_digits()"
   ]
  },
  {
   "cell_type": "code",
   "execution_count": null,
   "metadata": {},
   "outputs": [],
   "source": [
    "_, axes = plt.subplots(nrows=1, ncols=4, figsize=(10, 3))\n",
    "for ax, image, label in zip(axes, digits.images, digits.target):\n",
    "    ax.set_axis_off()\n",
    "    ax.imshow(image, cmap=plt.cm.gray_r, interpolation=\"nearest\")\n",
    "    ax.set_title(\"Training: %i\" % label)"
   ]
  },
  {
   "cell_type": "code",
   "execution_count": null,
   "metadata": {},
   "outputs": [],
   "source": [
    "# flatten the images\n",
    "n_samples = len(digits.images)\n",
    "data = digits.images.reshape((n_samples, -1))\n",
    "data.shape"
   ]
  },
  {
   "cell_type": "code",
   "execution_count": 76,
   "metadata": {},
   "outputs": [],
   "source": [
    "# Create a classifier: a support vector classifier\n",
    "clf = svm.SVC(gamma=0.001)"
   ]
  },
  {
   "cell_type": "code",
   "execution_count": 74,
   "metadata": {},
   "outputs": [],
   "source": [
    "X_train, X_test, y_train, y_test = train_test_split(\n",
    "    data, digits.target, test_size=0.5, shuffle=False\n",
    ")"
   ]
  },
  {
   "cell_type": "code",
   "execution_count": null,
   "metadata": {},
   "outputs": [],
   "source": [
    "clf.fit(X_train, y_train)"
   ]
  },
  {
   "cell_type": "code",
   "execution_count": 78,
   "metadata": {},
   "outputs": [],
   "source": [
    "predicted = clf.predict(X_test)"
   ]
  },
  {
   "cell_type": "code",
   "execution_count": null,
   "metadata": {},
   "outputs": [],
   "source": [
    "print(\n",
    "    f\"Classification report for classifier {clf}:\\n\"\n",
    "    f\"{metrics.classification_report(y_test, predicted)}\\n\"\n",
    ")"
   ]
  },
  {
   "cell_type": "markdown",
   "metadata": {},
   "source": [
    "#### Saving Results"
   ]
  },
  {
   "cell_type": "code",
   "execution_count": null,
   "metadata": {},
   "outputs": [],
   "source": [
    "params = clf.get_params()\n",
    "params"
   ]
  },
  {
   "cell_type": "code",
   "execution_count": 84,
   "metadata": {},
   "outputs": [],
   "source": [
    "report = metrics.classification_report(y_test, predicted, output_dict=True)\n",
    "\n",
    "result = {}\n",
    "result['report'] = report\n",
    "result['params'] = params\n",
    "\n",
    "with open('svm_results.json', 'w') as f:\n",
    "    json.dump(result, f)"
   ]
  },
  {
   "cell_type": "markdown",
   "metadata": {},
   "source": [
    "## Cross Validation\n",
    "\n",
    "- It helps remove reliance/dependence on the particular train/test split made."
   ]
  },
  {
   "cell_type": "code",
   "execution_count": 479,
   "metadata": {},
   "outputs": [],
   "source": [
    "from sklearn.model_selection import cross_val_score\n",
    "from sklearn import svm\n",
    "from sklearn.datasets import load_iris "
   ]
  },
  {
   "cell_type": "code",
   "execution_count": 480,
   "metadata": {},
   "outputs": [],
   "source": [
    "X, y = load_iris(return_X_y=True)"
   ]
  },
  {
   "cell_type": "code",
   "execution_count": null,
   "metadata": {},
   "outputs": [],
   "source": [
    "X.shape, y.shape"
   ]
  },
  {
   "cell_type": "code",
   "execution_count": 491,
   "metadata": {},
   "outputs": [],
   "source": [
    "X_train, X_test, y_train, y_test = train_test_split(X, y, test_size=0.4, random_state=RANDOM_SEED)"
   ]
  },
  {
   "cell_type": "code",
   "execution_count": null,
   "metadata": {},
   "outputs": [],
   "source": [
    "ss = StandardScaler()\n",
    "X_train = ss.fit_transform(X_train)"
   ]
  },
  {
   "cell_type": "code",
   "execution_count": 492,
   "metadata": {},
   "outputs": [],
   "source": [
    "model = svm.SVC(kernel='linear', C=1, random_state=RANDOM_SEED)"
   ]
  },
  {
   "cell_type": "code",
   "execution_count": null,
   "metadata": {},
   "outputs": [],
   "source": [
    "model.fit(X_train, y_train)"
   ]
  },
  {
   "cell_type": "code",
   "execution_count": null,
   "metadata": {},
   "outputs": [],
   "source": [
    "model.score(X_test, y_test)"
   ]
  },
  {
   "cell_type": "code",
   "execution_count": null,
   "metadata": {},
   "outputs": [],
   "source": [
    "# Lets perform cross validation\n",
    "scores = cross_val_score(model, X_train, y_train, cv=5)\n",
    "print(scores)"
   ]
  },
  {
   "cell_type": "code",
   "execution_count": null,
   "metadata": {},
   "outputs": [],
   "source": [
    "print(\"%0.2f is the average accuracy, with a standard deviation of %0.2f\" % (scores.mean(), scores.std()))"
   ]
  },
  {
   "cell_type": "markdown",
   "metadata": {},
   "source": [
    "- **Lets try fitting the model again, but with another split type.**"
   ]
  },
  {
   "cell_type": "code",
   "execution_count": 78,
   "metadata": {},
   "outputs": [],
   "source": [
    "# we can alos create custom cv strategies\n",
    "from sklearn.model_selection import ShuffleSplit"
   ]
  },
  {
   "cell_type": "code",
   "execution_count": 84,
   "metadata": {},
   "outputs": [],
   "source": [
    "ss = ShuffleSplit(n_splits=5, test_size=0.4)"
   ]
  },
  {
   "cell_type": "code",
   "execution_count": null,
   "metadata": {},
   "outputs": [],
   "source": [
    "scores_ss = cross_val_score(model, X_train, y_train, cv=ss)\n",
    "print(scores_ss)"
   ]
  },
  {
   "cell_type": "code",
   "execution_count": null,
   "metadata": {},
   "outputs": [],
   "source": [
    "print(\"%0.2f is the average accuracy, with a standard deviation of %0.2f\" % (scores_ss.mean(), scores_ss.std()))"
   ]
  },
  {
   "cell_type": "markdown",
   "metadata": {},
   "source": [
    "### Mini Challenge\n",
    "\n",
    "1. Using the same dataset, perform cross validation with the StratifiedKFold class.\n",
    "2. Be able to explain the difference between KFOLD and StratifiedKFold"
   ]
  },
  {
   "cell_type": "code",
   "execution_count": null,
   "metadata": {},
   "outputs": [],
   "source": [
    "X, y = load_iris(return_X_y=True)"
   ]
  },
  {
   "cell_type": "code",
   "execution_count": null,
   "metadata": {},
   "outputs": [],
   "source": []
  },
  {
   "cell_type": "markdown",
   "metadata": {},
   "source": [
    "## Cross Validation (Continued)\n",
    "\n",
    "- CV can be useful for hyperparameter tuning"
   ]
  },
  {
   "cell_type": "code",
   "execution_count": 15,
   "metadata": {},
   "outputs": [],
   "source": [
    "from sklearn.datasets import fetch_openml\n",
    "\n",
    "ds = fetch_openml(data_id=37)\n",
    "\n",
    "# Dataset Link: https://www.openml.org/search?type=data&sort=runs&status=active&qualities.NumberOfClasses=gte_2&id=1504"
   ]
  },
  {
   "cell_type": "code",
   "execution_count": null,
   "metadata": {},
   "outputs": [],
   "source": [
    "df = ds.frame\n",
    "df.head()"
   ]
  },
  {
   "cell_type": "code",
   "execution_count": 17,
   "metadata": {},
   "outputs": [],
   "source": [
    "data = ds.data\n",
    "target = ds.target"
   ]
  },
  {
   "cell_type": "code",
   "execution_count": 18,
   "metadata": {},
   "outputs": [],
   "source": [
    "target = target.apply(lambda label: 1 if label == 'tested_positive' else 0)"
   ]
  },
  {
   "cell_type": "code",
   "execution_count": null,
   "metadata": {},
   "outputs": [],
   "source": [
    "target.value_counts()"
   ]
  },
  {
   "cell_type": "code",
   "execution_count": null,
   "metadata": {},
   "outputs": [],
   "source": [
    "x_train, x_test, y_train, y_test = train_test_split(data, target, test_size=0.3, random_state=RANDOM_SEED)"
   ]
  },
  {
   "cell_type": "code",
   "execution_count": 93,
   "metadata": {},
   "outputs": [],
   "source": [
    "model = svm.SVC(random_state=RANDOM_SEED, class_weight='balanced')"
   ]
  },
  {
   "cell_type": "code",
   "execution_count": null,
   "metadata": {},
   "outputs": [],
   "source": [
    "model.fit(x_train, y_train)"
   ]
  },
  {
   "cell_type": "code",
   "execution_count": null,
   "metadata": {},
   "outputs": [],
   "source": [
    "train_acc = model.score(x_train, y_train)\n",
    "train_acc"
   ]
  },
  {
   "cell_type": "code",
   "execution_count": null,
   "metadata": {},
   "outputs": [],
   "source": [
    "test_acc = model.score(x_test, y_test)\n",
    "test_acc"
   ]
  },
  {
   "cell_type": "markdown",
   "metadata": {},
   "source": [
    "- **How can cross validation help us? Lets discuss a models Parameter Space?**\n",
    "\n",
    "- **Lets explore a [SVC's](https://scikit-learn.org/stable/modules/generated/sklearn.svm.SVC.html) Parameter Space.**\n"
   ]
  },
  {
   "cell_type": "code",
   "execution_count": 2,
   "metadata": {},
   "outputs": [],
   "source": [
    "from sklearn.model_selection import GridSearchCV, KFold\n",
    "from sklearn.datasets import load_breast_cancer"
   ]
  },
  {
   "cell_type": "code",
   "execution_count": null,
   "metadata": {},
   "outputs": [],
   "source": [
    "data = load_breast_cancer(as_frame=True)\n",
    "df = data.frame\n",
    "df.head()"
   ]
  },
  {
   "cell_type": "code",
   "execution_count": 170,
   "metadata": {},
   "outputs": [],
   "source": [
    "ss = StandardScaler()\n",
    "x = ss.fit_transform(data.data)"
   ]
  },
  {
   "cell_type": "code",
   "execution_count": 171,
   "metadata": {},
   "outputs": [],
   "source": [
    "x_train, x_test, y_train, y_test = train_test_split(x, data.target, test_size=0.5)"
   ]
  },
  {
   "cell_type": "code",
   "execution_count": 172,
   "metadata": {},
   "outputs": [],
   "source": [
    "param_grid = {\n",
    "    'C': [1, 10, 100, 1000], 'gamma': ['scale', 'auto', 0.001, 0.0001], 'class_weight': ['balanced', None], 'kernel': ['rbf']\n",
    "}"
   ]
  },
  {
   "cell_type": "code",
   "execution_count": 189,
   "metadata": {},
   "outputs": [],
   "source": [
    "model = svm.SVC(random_state=RANDOM_SEED)\n",
    "\n",
    "kfold = KFold(n_splits=3, shuffle=True, random_state=RANDOM_SEED)\n",
    "\n",
    "grid_searcher = GridSearchCV(model, param_grid=param_grid, cv=kfold)"
   ]
  },
  {
   "cell_type": "code",
   "execution_count": null,
   "metadata": {},
   "outputs": [],
   "source": [
    "grid_searcher.fit(x_train, y_train)"
   ]
  },
  {
   "cell_type": "code",
   "execution_count": 191,
   "metadata": {},
   "outputs": [],
   "source": [
    "import numpy as np"
   ]
  },
  {
   "cell_type": "code",
   "execution_count": 192,
   "metadata": {},
   "outputs": [],
   "source": [
    "import json\n",
    "\n",
    "results = grid_searcher.cv_results_\n",
    "\n",
    "with open('gs_results.json', 'w') as f:\n",
    "    json.dump(results, f, default=lambda obj: obj.tolist() if isinstance(obj, np.ndarray) else obj)"
   ]
  },
  {
   "cell_type": "code",
   "execution_count": 193,
   "metadata": {},
   "outputs": [],
   "source": [
    "# Sort the results by mean_test_score in descending order\n",
    "# Get the index of all the 1s in results['params']\n",
    "top_ranks = sorted([(rank, i) for i, rank in enumerate(results['rank_test_score'])], key=lambda x: x[1], reverse=True)\n",
    "\n",
    "idx = top_ranks[0][1]\n",
    "\n",
    "top_params = results['params'][idx]"
   ]
  },
  {
   "cell_type": "code",
   "execution_count": null,
   "metadata": {},
   "outputs": [],
   "source": [
    "idx"
   ]
  },
  {
   "cell_type": "code",
   "execution_count": null,
   "metadata": {},
   "outputs": [],
   "source": [
    "top_params"
   ]
  },
  {
   "cell_type": "code",
   "execution_count": null,
   "metadata": {},
   "outputs": [],
   "source": [
    "model = svm.SVC(C=10, random_state=RANDOM_SEED)\n",
    "model.fit(x_train, y_train)\n",
    "\n",
    "tr_score = model.score(x_train, y_train)\n",
    "score = model.score(x_test, y_test)\n",
    "\n",
    "print(tr_score)\n",
    "print(score)"
   ]
  },
  {
   "cell_type": "code",
   "execution_count": null,
   "metadata": {},
   "outputs": [],
   "source": [
    "model = svm.SVC(random_state=RANDOM_SEED, **top_params)\n",
    "model.fit(x_train, y_train)\n",
    "tr_score = model.score(x_train, y_train)\n",
    "score = model.score(x_test, y_test)\n",
    "\n",
    "print(tr_score)\n",
    "print(score)"
   ]
  },
  {
   "cell_type": "markdown",
   "metadata": {},
   "source": [
    "# Ending Challenge :D\n",
    "\n",
    "Using the loan dataset, use the steps you've learned to evaluate a model.\n",
    "\n",
    "Link to Dataset: https://www.kaggle.com/datasets/ninzaami/loan-predication?resource=download\n",
    "\n",
    "you will..\n",
    "- handle missing data\n",
    "- identify categorical variables\n",
    "- handle categorical values\n",
    "- choose a model we have learned today\n",
    "- evaluate your model\n",
    "\n",
    "Your target to predict: Loan Status"
   ]
  },
  {
   "cell_type": "code",
   "execution_count": null,
   "metadata": {},
   "outputs": [],
   "source": [
    "load_df = pd.read_csv('loan.csv')\n",
    "\n",
    "load_df"
   ]
  },
  {
   "cell_type": "code",
   "execution_count": null,
   "metadata": {},
   "outputs": [],
   "source": []
  }
 ],
 "metadata": {
  "kernelspec": {
   "display_name": "Workshop",
   "language": "python",
   "name": "python3"
  },
  "language_info": {
   "codemirror_mode": {
    "name": "ipython",
    "version": 3
   },
   "file_extension": ".py",
   "mimetype": "text/x-python",
   "name": "python",
   "nbconvert_exporter": "python",
   "pygments_lexer": "ipython3",
   "version": "3.10.6"
  }
 },
 "nbformat": 4,
 "nbformat_minor": 2
}
